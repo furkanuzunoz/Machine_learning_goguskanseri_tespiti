{
 "cells": [
  {
   "cell_type": "code",
   "execution_count": 1,
   "metadata": {},
   "outputs": [],
   "source": [
    "import pandas as pd \n",
    "%matplotlib notebook\n",
    "import seaborn as sns \n",
    "from sklearn.model_selection import cross_val_score,train_test_split\n",
    "from sklearn import preprocessing\n",
    "from sklearn.linear_model import LogisticRegression\n",
    "from sklearn.metrics import accuracy_score,confusion_matrix,mean_squared_error\n",
    "from sklearn import tree \n",
    "from matplotlib import pyplot as plt \n",
    "from sklearn.tree import DecisionTreeClassifier\n",
    "from sklearn.tree import export_graphviz\n",
    "import graphviz\n",
    "from sklearn import svm\n",
    "from sklearn.svm import SVC\n",
    "import numpy as np\n",
    "from decimal import Decimal, ROUND_HALF_UP\n",
    "from sklearn.preprocessing import StandardScaler"
   ]
  },
  {
   "cell_type": "code",
   "execution_count": 2,
   "metadata": {},
   "outputs": [],
   "source": [
    "%matplotlib inline\n",
    "sns.set(style = 'darkgrid')\n",
    "sns.set_palette('deep')"
   ]
  },
  {
   "cell_type": "code",
   "execution_count": 3,
   "metadata": {},
   "outputs": [
    {
     "data": {
      "text/html": [
       "<div>\n",
       "<style scoped>\n",
       "    .dataframe tbody tr th:only-of-type {\n",
       "        vertical-align: middle;\n",
       "    }\n",
       "\n",
       "    .dataframe tbody tr th {\n",
       "        vertical-align: top;\n",
       "    }\n",
       "\n",
       "    .dataframe thead th {\n",
       "        text-align: right;\n",
       "    }\n",
       "</style>\n",
       "<table border=\"1\" class=\"dataframe\">\n",
       "  <thead>\n",
       "    <tr style=\"text-align: right;\">\n",
       "      <th></th>\n",
       "      <th>mean_radius</th>\n",
       "      <th>mean_texture</th>\n",
       "      <th>mean_perimeter</th>\n",
       "      <th>mean_area</th>\n",
       "      <th>mean_smoothness</th>\n",
       "      <th>diagnosis</th>\n",
       "    </tr>\n",
       "  </thead>\n",
       "  <tbody>\n",
       "    <tr>\n",
       "      <th>0</th>\n",
       "      <td>17.99</td>\n",
       "      <td>10.38</td>\n",
       "      <td>122.80</td>\n",
       "      <td>1001.0</td>\n",
       "      <td>0.11840</td>\n",
       "      <td>0</td>\n",
       "    </tr>\n",
       "    <tr>\n",
       "      <th>1</th>\n",
       "      <td>20.57</td>\n",
       "      <td>17.77</td>\n",
       "      <td>132.90</td>\n",
       "      <td>1326.0</td>\n",
       "      <td>0.08474</td>\n",
       "      <td>0</td>\n",
       "    </tr>\n",
       "    <tr>\n",
       "      <th>2</th>\n",
       "      <td>19.69</td>\n",
       "      <td>21.25</td>\n",
       "      <td>130.00</td>\n",
       "      <td>1203.0</td>\n",
       "      <td>0.10960</td>\n",
       "      <td>0</td>\n",
       "    </tr>\n",
       "    <tr>\n",
       "      <th>3</th>\n",
       "      <td>11.42</td>\n",
       "      <td>20.38</td>\n",
       "      <td>77.58</td>\n",
       "      <td>386.1</td>\n",
       "      <td>0.14250</td>\n",
       "      <td>0</td>\n",
       "    </tr>\n",
       "    <tr>\n",
       "      <th>4</th>\n",
       "      <td>20.29</td>\n",
       "      <td>14.34</td>\n",
       "      <td>135.10</td>\n",
       "      <td>1297.0</td>\n",
       "      <td>0.10030</td>\n",
       "      <td>0</td>\n",
       "    </tr>\n",
       "    <tr>\n",
       "      <th>...</th>\n",
       "      <td>...</td>\n",
       "      <td>...</td>\n",
       "      <td>...</td>\n",
       "      <td>...</td>\n",
       "      <td>...</td>\n",
       "      <td>...</td>\n",
       "    </tr>\n",
       "    <tr>\n",
       "      <th>564</th>\n",
       "      <td>21.56</td>\n",
       "      <td>22.39</td>\n",
       "      <td>142.00</td>\n",
       "      <td>1479.0</td>\n",
       "      <td>0.11100</td>\n",
       "      <td>0</td>\n",
       "    </tr>\n",
       "    <tr>\n",
       "      <th>565</th>\n",
       "      <td>20.13</td>\n",
       "      <td>28.25</td>\n",
       "      <td>131.20</td>\n",
       "      <td>1261.0</td>\n",
       "      <td>0.09780</td>\n",
       "      <td>0</td>\n",
       "    </tr>\n",
       "    <tr>\n",
       "      <th>566</th>\n",
       "      <td>16.60</td>\n",
       "      <td>28.08</td>\n",
       "      <td>108.30</td>\n",
       "      <td>858.1</td>\n",
       "      <td>0.08455</td>\n",
       "      <td>0</td>\n",
       "    </tr>\n",
       "    <tr>\n",
       "      <th>567</th>\n",
       "      <td>20.60</td>\n",
       "      <td>29.33</td>\n",
       "      <td>140.10</td>\n",
       "      <td>1265.0</td>\n",
       "      <td>0.11780</td>\n",
       "      <td>0</td>\n",
       "    </tr>\n",
       "    <tr>\n",
       "      <th>568</th>\n",
       "      <td>7.76</td>\n",
       "      <td>24.54</td>\n",
       "      <td>47.92</td>\n",
       "      <td>181.0</td>\n",
       "      <td>0.05263</td>\n",
       "      <td>1</td>\n",
       "    </tr>\n",
       "  </tbody>\n",
       "</table>\n",
       "<p>569 rows × 6 columns</p>\n",
       "</div>"
      ],
      "text/plain": [
       "     mean_radius  mean_texture  mean_perimeter  mean_area  mean_smoothness  \\\n",
       "0          17.99         10.38          122.80     1001.0          0.11840   \n",
       "1          20.57         17.77          132.90     1326.0          0.08474   \n",
       "2          19.69         21.25          130.00     1203.0          0.10960   \n",
       "3          11.42         20.38           77.58      386.1          0.14250   \n",
       "4          20.29         14.34          135.10     1297.0          0.10030   \n",
       "..           ...           ...             ...        ...              ...   \n",
       "564        21.56         22.39          142.00     1479.0          0.11100   \n",
       "565        20.13         28.25          131.20     1261.0          0.09780   \n",
       "566        16.60         28.08          108.30      858.1          0.08455   \n",
       "567        20.60         29.33          140.10     1265.0          0.11780   \n",
       "568         7.76         24.54           47.92      181.0          0.05263   \n",
       "\n",
       "     diagnosis  \n",
       "0            0  \n",
       "1            0  \n",
       "2            0  \n",
       "3            0  \n",
       "4            0  \n",
       "..         ...  \n",
       "564          0  \n",
       "565          0  \n",
       "566          0  \n",
       "567          0  \n",
       "568          1  \n",
       "\n",
       "[569 rows x 6 columns]"
      ]
     },
     "execution_count": 3,
     "metadata": {},
     "output_type": "execute_result"
    }
   ],
   "source": [
    "data =pd.read_csv(\"Breast_cancer_dataa.csv\")\n",
    "data"
   ]
  },
  {
   "cell_type": "markdown",
   "metadata": {},
   "source": [
    "### Veri Önişleme ###"
   ]
  },
  {
   "cell_type": "code",
   "execution_count": 4,
   "metadata": {},
   "outputs": [
    {
     "name": "stdout",
     "output_type": "stream",
     "text": [
      "<class 'pandas.core.frame.DataFrame'>\n",
      "RangeIndex: 569 entries, 0 to 568\n",
      "Data columns (total 6 columns):\n",
      " #   Column           Non-Null Count  Dtype  \n",
      "---  ------           --------------  -----  \n",
      " 0   mean_radius      569 non-null    float64\n",
      " 1   mean_texture     569 non-null    float64\n",
      " 2   mean_perimeter   569 non-null    float64\n",
      " 3   mean_area        569 non-null    float64\n",
      " 4   mean_smoothness  569 non-null    float64\n",
      " 5   diagnosis        569 non-null    int64  \n",
      "dtypes: float64(5), int64(1)\n",
      "memory usage: 26.8 KB\n"
     ]
    }
   ],
   "source": [
    "data.info()"
   ]
  },
  {
   "cell_type": "code",
   "execution_count": 5,
   "metadata": {},
   "outputs": [
    {
     "data": {
      "text/plain": [
       "0"
      ]
     },
     "execution_count": 5,
     "metadata": {},
     "output_type": "execute_result"
    }
   ],
   "source": [
    "data.duplicated().sum()"
   ]
  },
  {
   "cell_type": "code",
   "execution_count": 6,
   "metadata": {},
   "outputs": [
    {
     "data": {
      "text/plain": [
       "mean_radius          28.1100\n",
       "mean_texture         39.2800\n",
       "mean_perimeter      188.5000\n",
       "mean_area          2501.0000\n",
       "mean_smoothness       0.1634\n",
       "diagnosis             1.0000\n",
       "dtype: float64"
      ]
     },
     "execution_count": 6,
     "metadata": {},
     "output_type": "execute_result"
    }
   ],
   "source": [
    "data.max()"
   ]
  },
  {
   "cell_type": "code",
   "execution_count": 7,
   "metadata": {},
   "outputs": [
    {
     "data": {
      "text/plain": [
       "mean_radius         0.00\n",
       "mean_texture        9.71\n",
       "mean_perimeter     43.79\n",
       "mean_area           0.00\n",
       "mean_smoothness     0.00\n",
       "diagnosis           0.00\n",
       "dtype: float64"
      ]
     },
     "execution_count": 7,
     "metadata": {},
     "output_type": "execute_result"
    }
   ],
   "source": [
    "data.min()"
   ]
  },
  {
   "cell_type": "code",
   "execution_count": 8,
   "metadata": {},
   "outputs": [
    {
     "data": {
      "text/plain": [
       "mean_radius          2\n",
       "mean_texture         0\n",
       "mean_perimeter       0\n",
       "mean_area            1\n",
       "mean_smoothness      1\n",
       "diagnosis          212\n",
       "dtype: int64"
      ]
     },
     "execution_count": 8,
     "metadata": {},
     "output_type": "execute_result"
    }
   ],
   "source": [
    "data.eq(0).sum()"
   ]
  },
  {
   "cell_type": "code",
   "execution_count": 9,
   "metadata": {},
   "outputs": [],
   "source": [
    "data[['mean_radius','mean_area','mean_smoothness']]=data[['mean_radius','mean_area','mean_smoothness']].replace(0,np.NaN)"
   ]
  },
  {
   "cell_type": "code",
   "execution_count": 10,
   "metadata": {},
   "outputs": [],
   "source": [
    "data.fillna(data.mean(), inplace=True)"
   ]
  },
  {
   "cell_type": "code",
   "execution_count": 11,
   "metadata": {},
   "outputs": [
    {
     "data": {
      "text/plain": [
       "mean_radius          6.98100\n",
       "mean_texture         9.71000\n",
       "mean_perimeter      43.79000\n",
       "mean_area          143.50000\n",
       "mean_smoothness      0.05263\n",
       "diagnosis            0.00000\n",
       "dtype: float64"
      ]
     },
     "execution_count": 11,
     "metadata": {},
     "output_type": "execute_result"
    }
   ],
   "source": [
    "data.min()"
   ]
  },
  {
   "cell_type": "code",
   "execution_count": 12,
   "metadata": {},
   "outputs": [
    {
     "data": {
      "text/html": [
       "<div>\n",
       "<style scoped>\n",
       "    .dataframe tbody tr th:only-of-type {\n",
       "        vertical-align: middle;\n",
       "    }\n",
       "\n",
       "    .dataframe tbody tr th {\n",
       "        vertical-align: top;\n",
       "    }\n",
       "\n",
       "    .dataframe thead th {\n",
       "        text-align: right;\n",
       "    }\n",
       "</style>\n",
       "<table border=\"1\" class=\"dataframe\">\n",
       "  <thead>\n",
       "    <tr style=\"text-align: right;\">\n",
       "      <th></th>\n",
       "      <th>mean_radius</th>\n",
       "      <th>mean_texture</th>\n",
       "      <th>mean_perimeter</th>\n",
       "      <th>mean_area</th>\n",
       "      <th>mean_smoothness</th>\n",
       "      <th>diagnosis</th>\n",
       "    </tr>\n",
       "  </thead>\n",
       "  <tbody>\n",
       "    <tr>\n",
       "      <th>mean_radius</th>\n",
       "      <td>1.000000</td>\n",
       "      <td>0.320959</td>\n",
       "      <td>0.995861</td>\n",
       "      <td>0.984931</td>\n",
       "      <td>0.167987</td>\n",
       "      <td>-0.727056</td>\n",
       "    </tr>\n",
       "    <tr>\n",
       "      <th>mean_texture</th>\n",
       "      <td>0.320959</td>\n",
       "      <td>1.000000</td>\n",
       "      <td>0.329533</td>\n",
       "      <td>0.318000</td>\n",
       "      <td>-0.023028</td>\n",
       "      <td>-0.415185</td>\n",
       "    </tr>\n",
       "    <tr>\n",
       "      <th>mean_perimeter</th>\n",
       "      <td>0.995861</td>\n",
       "      <td>0.329533</td>\n",
       "      <td>1.000000</td>\n",
       "      <td>0.985549</td>\n",
       "      <td>0.207483</td>\n",
       "      <td>-0.742636</td>\n",
       "    </tr>\n",
       "    <tr>\n",
       "      <th>mean_area</th>\n",
       "      <td>0.984931</td>\n",
       "      <td>0.318000</td>\n",
       "      <td>0.985549</td>\n",
       "      <td>1.000000</td>\n",
       "      <td>0.176934</td>\n",
       "      <td>-0.707399</td>\n",
       "    </tr>\n",
       "    <tr>\n",
       "      <th>mean_smoothness</th>\n",
       "      <td>0.167987</td>\n",
       "      <td>-0.023028</td>\n",
       "      <td>0.207483</td>\n",
       "      <td>0.176934</td>\n",
       "      <td>1.000000</td>\n",
       "      <td>-0.358757</td>\n",
       "    </tr>\n",
       "    <tr>\n",
       "      <th>diagnosis</th>\n",
       "      <td>-0.727056</td>\n",
       "      <td>-0.415185</td>\n",
       "      <td>-0.742636</td>\n",
       "      <td>-0.707399</td>\n",
       "      <td>-0.358757</td>\n",
       "      <td>1.000000</td>\n",
       "    </tr>\n",
       "  </tbody>\n",
       "</table>\n",
       "</div>"
      ],
      "text/plain": [
       "                 mean_radius  mean_texture  mean_perimeter  mean_area  \\\n",
       "mean_radius         1.000000      0.320959        0.995861   0.984931   \n",
       "mean_texture        0.320959      1.000000        0.329533   0.318000   \n",
       "mean_perimeter      0.995861      0.329533        1.000000   0.985549   \n",
       "mean_area           0.984931      0.318000        0.985549   1.000000   \n",
       "mean_smoothness     0.167987     -0.023028        0.207483   0.176934   \n",
       "diagnosis          -0.727056     -0.415185       -0.742636  -0.707399   \n",
       "\n",
       "                 mean_smoothness  diagnosis  \n",
       "mean_radius             0.167987  -0.727056  \n",
       "mean_texture           -0.023028  -0.415185  \n",
       "mean_perimeter          0.207483  -0.742636  \n",
       "mean_area               0.176934  -0.707399  \n",
       "mean_smoothness         1.000000  -0.358757  \n",
       "diagnosis              -0.358757   1.000000  "
      ]
     },
     "execution_count": 12,
     "metadata": {},
     "output_type": "execute_result"
    }
   ],
   "source": [
    "data.corr()"
   ]
  },
  {
   "cell_type": "code",
   "execution_count": 13,
   "metadata": {},
   "outputs": [
    {
     "data": {
      "text/plain": [
       "<AxesSubplot:>"
      ]
     },
     "execution_count": 13,
     "metadata": {},
     "output_type": "execute_result"
    },
    {
     "data": {
      "image/png": "[encoded data removed]",
      "text/plain": [
       "<Figure size 432x288 with 2 Axes>"
      ]
     },
     "metadata": {},
     "output_type": "display_data"
    }
   ],
   "source": [
    "sns.heatmap(data.corr())"
   ]
  },
  {
   "cell_type": "code",
   "execution_count": 56,
   "metadata": {},
   "outputs": [
    {
     "data": {
      "text/plain": [
       "Index(['diagnosis', 'mean_smoothness', 'mean_texture', 'mean_area',\n",
       "       'mean_radius'],\n",
       "      dtype='object')"
      ]
     },
     "execution_count": 56,
     "metadata": {},
     "output_type": "execute_result"
    }
   ],
   "source": [
    "data.corr().nlargest(5,'diagnosis').index"
   ]
  },
  {
   "cell_type": "code",
   "execution_count": 14,
   "metadata": {},
   "outputs": [
    {
     "data": {
      "text/plain": [
       "<AxesSubplot:xlabel='mean_perimeter'>"
      ]
     },
     "execution_count": 14,
     "metadata": {},
     "output_type": "execute_result"
    },
    {
     "data": {
      "image/png": "[encoded data removed]",
      "text/plain": [
       "<Figure size 432x288 with 1 Axes>"
      ]
     },
     "metadata": {},
     "output_type": "display_data"
    }
   ],
   "source": [
    "sns.boxplot(x=data['mean_perimeter'])"
   ]
  },
  {
   "cell_type": "code",
   "execution_count": 15,
   "metadata": {},
   "outputs": [],
   "source": [
    "data = data.drop(data.index[data['mean_perimeter'] >= 181.2])\n"
   ]
  },
  {
   "cell_type": "code",
   "execution_count": 16,
   "metadata": {},
   "outputs": [
    {
     "data": {
      "text/plain": [
       "<AxesSubplot:xlabel='mean_texture'>"
      ]
     },
     "execution_count": 16,
     "metadata": {},
     "output_type": "execute_result"
    },
    {
     "data": {
      "image/png": "[encoded data removed]",
      "text/plain": [
       "<Figure size 432x288 with 1 Axes>"
      ]
     },
     "metadata": {},
     "output_type": "display_data"
    }
   ],
   "source": [
    "sns.boxplot(x=data['mean_texture'])"
   ]
  },
  {
   "cell_type": "code",
   "execution_count": 17,
   "metadata": {},
   "outputs": [],
   "source": [
    "data = data.drop(data.index[data['mean_texture'] >= 37.8])"
   ]
  },
  {
   "cell_type": "code",
   "execution_count": 18,
   "metadata": {},
   "outputs": [
    {
     "data": {
      "text/plain": [
       "<AxesSubplot:xlabel='mean_area'>"
      ]
     },
     "execution_count": 18,
     "metadata": {},
     "output_type": "execute_result"
    },
    {
     "data": {
      "image/png": "[encoded data removed]",
      "text/plain": [
       "<Figure size 432x288 with 1 Axes>"
      ]
     },
     "metadata": {},
     "output_type": "display_data"
    }
   ],
   "source": [
    "sns.boxplot(x=data['mean_area'])"
   ]
  },
  {
   "cell_type": "code",
   "execution_count": 19,
   "metadata": {},
   "outputs": [],
   "source": [
    "data = data.drop(data.index[data['mean_area'] >=1917])"
   ]
  },
  {
   "cell_type": "code",
   "execution_count": 20,
   "metadata": {},
   "outputs": [
    {
     "data": {
      "text/plain": [
       "<AxesSubplot:xlabel='mean_radius'>"
      ]
     },
     "execution_count": 20,
     "metadata": {},
     "output_type": "execute_result"
    },
    {
     "data": {
      "image/png": "[encoded data removed]",
      "text/plain": [
       "<Figure size 432x288 with 1 Axes>"
      ]
     },
     "metadata": {},
     "output_type": "display_data"
    }
   ],
   "source": [
    "sns.boxplot(x=data['mean_radius'])"
   ]
  },
  {
   "cell_type": "code",
   "execution_count": 21,
   "metadata": {},
   "outputs": [],
   "source": [
    "data = data.drop(data.index[data['mean_radius'] >=24.23])"
   ]
  },
  {
   "cell_type": "markdown",
   "metadata": {},
   "source": [
    "## Logistic Regression ##"
   ]
  },
  {
   "cell_type": "code",
   "execution_count": 23,
   "metadata": {},
   "outputs": [
    {
     "data": {
      "text/html": [
       "<div>\n",
       "<style scoped>\n",
       "    .dataframe tbody tr th:only-of-type {\n",
       "        vertical-align: middle;\n",
       "    }\n",
       "\n",
       "    .dataframe tbody tr th {\n",
       "        vertical-align: top;\n",
       "    }\n",
       "\n",
       "    .dataframe thead th {\n",
       "        text-align: right;\n",
       "    }\n",
       "</style>\n",
       "<table border=\"1\" class=\"dataframe\">\n",
       "  <thead>\n",
       "    <tr style=\"text-align: right;\">\n",
       "      <th></th>\n",
       "      <th>mean_perimeter</th>\n",
       "      <th>mean_texture</th>\n",
       "      <th>mean_area</th>\n",
       "      <th>mean_radius</th>\n",
       "    </tr>\n",
       "  </thead>\n",
       "  <tbody>\n",
       "    <tr>\n",
       "      <th>0</th>\n",
       "      <td>122.80</td>\n",
       "      <td>10.38</td>\n",
       "      <td>1001.0</td>\n",
       "      <td>17.99</td>\n",
       "    </tr>\n",
       "    <tr>\n",
       "      <th>1</th>\n",
       "      <td>132.90</td>\n",
       "      <td>17.77</td>\n",
       "      <td>1326.0</td>\n",
       "      <td>20.57</td>\n",
       "    </tr>\n",
       "    <tr>\n",
       "      <th>2</th>\n",
       "      <td>130.00</td>\n",
       "      <td>21.25</td>\n",
       "      <td>1203.0</td>\n",
       "      <td>19.69</td>\n",
       "    </tr>\n",
       "    <tr>\n",
       "      <th>3</th>\n",
       "      <td>77.58</td>\n",
       "      <td>20.38</td>\n",
       "      <td>386.1</td>\n",
       "      <td>11.42</td>\n",
       "    </tr>\n",
       "    <tr>\n",
       "      <th>4</th>\n",
       "      <td>135.10</td>\n",
       "      <td>14.34</td>\n",
       "      <td>1297.0</td>\n",
       "      <td>20.29</td>\n",
       "    </tr>\n",
       "    <tr>\n",
       "      <th>...</th>\n",
       "      <td>...</td>\n",
       "      <td>...</td>\n",
       "      <td>...</td>\n",
       "      <td>...</td>\n",
       "    </tr>\n",
       "    <tr>\n",
       "      <th>564</th>\n",
       "      <td>142.00</td>\n",
       "      <td>22.39</td>\n",
       "      <td>1479.0</td>\n",
       "      <td>21.56</td>\n",
       "    </tr>\n",
       "    <tr>\n",
       "      <th>565</th>\n",
       "      <td>131.20</td>\n",
       "      <td>28.25</td>\n",
       "      <td>1261.0</td>\n",
       "      <td>20.13</td>\n",
       "    </tr>\n",
       "    <tr>\n",
       "      <th>566</th>\n",
       "      <td>108.30</td>\n",
       "      <td>28.08</td>\n",
       "      <td>858.1</td>\n",
       "      <td>16.60</td>\n",
       "    </tr>\n",
       "    <tr>\n",
       "      <th>567</th>\n",
       "      <td>140.10</td>\n",
       "      <td>29.33</td>\n",
       "      <td>1265.0</td>\n",
       "      <td>20.60</td>\n",
       "    </tr>\n",
       "    <tr>\n",
       "      <th>568</th>\n",
       "      <td>47.92</td>\n",
       "      <td>24.54</td>\n",
       "      <td>181.0</td>\n",
       "      <td>7.76</td>\n",
       "    </tr>\n",
       "  </tbody>\n",
       "</table>\n",
       "<p>561 rows × 4 columns</p>\n",
       "</div>"
      ],
      "text/plain": [
       "     mean_perimeter  mean_texture  mean_area  mean_radius\n",
       "0            122.80         10.38     1001.0        17.99\n",
       "1            132.90         17.77     1326.0        20.57\n",
       "2            130.00         21.25     1203.0        19.69\n",
       "3             77.58         20.38      386.1        11.42\n",
       "4            135.10         14.34     1297.0        20.29\n",
       "..              ...           ...        ...          ...\n",
       "564          142.00         22.39     1479.0        21.56\n",
       "565          131.20         28.25     1261.0        20.13\n",
       "566          108.30         28.08      858.1        16.60\n",
       "567          140.10         29.33     1265.0        20.60\n",
       "568           47.92         24.54      181.0         7.76\n",
       "\n",
       "[561 rows x 4 columns]"
      ]
     },
     "execution_count": 23,
     "metadata": {},
     "output_type": "execute_result"
    }
   ],
   "source": [
    "X = data[['mean_perimeter', 'mean_texture', 'mean_area','mean_radius']]\n",
    "X"
   ]
  },
  {
   "cell_type": "code",
   "execution_count": 24,
   "metadata": {},
   "outputs": [
    {
     "data": {
      "text/plain": [
       "0      0\n",
       "1      0\n",
       "2      0\n",
       "3      0\n",
       "4      0\n",
       "      ..\n",
       "564    0\n",
       "565    0\n",
       "566    0\n",
       "567    0\n",
       "568    1\n",
       "Name: diagnosis, Length: 561, dtype: int64"
      ]
     },
     "execution_count": 24,
     "metadata": {},
     "output_type": "execute_result"
    }
   ],
   "source": [
    "y=data['diagnosis']\n",
    "y"
   ]
  },
  {
   "cell_type": "code",
   "execution_count": 25,
   "metadata": {},
   "outputs": [],
   "source": [
    "X_train, X_test, y_train, y_test = train_test_split(X, y, test_size = 0.2, random_state = 0)"
   ]
  },
  {
   "cell_type": "code",
   "execution_count": 26,
   "metadata": {
    "scrolled": true
   },
   "outputs": [
    {
     "data": {
      "text/plain": [
       "LogisticRegression(max_iter=10000)"
      ]
     },
     "execution_count": 26,
     "metadata": {},
     "output_type": "execute_result"
    }
   ],
   "source": [
    "lr = LogisticRegression(max_iter = 10000,solver='lbfgs')\n",
    "lr.fit(X_train, y_train)"
   ]
  },
  {
   "cell_type": "code",
   "execution_count": 27,
   "metadata": {},
   "outputs": [],
   "source": [
    "predictions = lr.predict(X_test)"
   ]
  },
  {
   "cell_type": "code",
   "execution_count": 28,
   "metadata": {},
   "outputs": [
    {
     "data": {
      "text/html": [
       "<div>\n",
       "<style scoped>\n",
       "    .dataframe tbody tr th:only-of-type {\n",
       "        vertical-align: middle;\n",
       "    }\n",
       "\n",
       "    .dataframe tbody tr th {\n",
       "        vertical-align: top;\n",
       "    }\n",
       "\n",
       "    .dataframe thead th {\n",
       "        text-align: right;\n",
       "    }\n",
       "</style>\n",
       "<table border=\"1\" class=\"dataframe\">\n",
       "  <thead>\n",
       "    <tr style=\"text-align: right;\">\n",
       "      <th></th>\n",
       "      <th>Gerçek</th>\n",
       "      <th>Tahmin</th>\n",
       "    </tr>\n",
       "  </thead>\n",
       "  <tbody>\n",
       "    <tr>\n",
       "      <th>0</th>\n",
       "      <td>0</td>\n",
       "      <td>1</td>\n",
       "    </tr>\n",
       "    <tr>\n",
       "      <th>1</th>\n",
       "      <td>0</td>\n",
       "      <td>0</td>\n",
       "    </tr>\n",
       "    <tr>\n",
       "      <th>2</th>\n",
       "      <td>1</td>\n",
       "      <td>1</td>\n",
       "    </tr>\n",
       "    <tr>\n",
       "      <th>3</th>\n",
       "      <td>0</td>\n",
       "      <td>0</td>\n",
       "    </tr>\n",
       "    <tr>\n",
       "      <th>4</th>\n",
       "      <td>0</td>\n",
       "      <td>0</td>\n",
       "    </tr>\n",
       "    <tr>\n",
       "      <th>5</th>\n",
       "      <td>0</td>\n",
       "      <td>0</td>\n",
       "    </tr>\n",
       "    <tr>\n",
       "      <th>6</th>\n",
       "      <td>1</td>\n",
       "      <td>1</td>\n",
       "    </tr>\n",
       "    <tr>\n",
       "      <th>7</th>\n",
       "      <td>1</td>\n",
       "      <td>1</td>\n",
       "    </tr>\n",
       "    <tr>\n",
       "      <th>8</th>\n",
       "      <td>1</td>\n",
       "      <td>1</td>\n",
       "    </tr>\n",
       "    <tr>\n",
       "      <th>9</th>\n",
       "      <td>1</td>\n",
       "      <td>1</td>\n",
       "    </tr>\n",
       "  </tbody>\n",
       "</table>\n",
       "</div>"
      ],
      "text/plain": [
       "   Gerçek  Tahmin\n",
       "0       0       1\n",
       "1       0       0\n",
       "2       1       1\n",
       "3       0       0\n",
       "4       0       0\n",
       "5       0       0\n",
       "6       1       1\n",
       "7       1       1\n",
       "8       1       1\n",
       "9       1       1"
      ]
     },
     "execution_count": 28,
     "metadata": {},
     "output_type": "execute_result"
    }
   ],
   "source": [
    "pred = pd.DataFrame({'Gerçek': y_test.tolist(), 'Tahmin': predictions.tolist()}).head(25)\n",
    "pred.head(10)"
   ]
  },
  {
   "cell_type": "code",
   "execution_count": 29,
   "metadata": {},
   "outputs": [
    {
     "data": {
      "text/plain": [
       "90.2655"
      ]
     },
     "execution_count": 29,
     "metadata": {},
     "output_type": "execute_result"
    }
   ],
   "source": [
    "tahmin1=lr.predict(X_test)\n",
    "error1=tahmin1\n",
    "tahmin1=accuracy_score(y_test,tahmin1)\n",
    "tahmin1 = round(tahmin1*100,4)\n",
    "tahmin1 "
   ]
  },
  {
   "cell_type": "code",
   "execution_count": 30,
   "metadata": {},
   "outputs": [
    {
     "name": "stdout",
     "output_type": "stream",
     "text": [
      "90.63636363636363\n"
     ]
    }
   ],
   "source": [
    "accuracymean=cross_val_score(estimator=lr,X=X_train,y=y_train,cv=10)\n",
    "print(accuracymean.mean()*100)\n",
    "linregscor = round(accuracymean.mean()*100,4)\n"
   ]
  },
  {
   "cell_type": "code",
   "execution_count": 31,
   "metadata": {},
   "outputs": [],
   "source": [
    "resultcros = []\n",
    "resultnorm = []\n",
    "resultnorm.append(tahmin1)\n",
    "resultcros.append(linregscor)"
   ]
  },
  {
   "cell_type": "code",
   "execution_count": 61,
   "metadata": {},
   "outputs": [],
   "source": [
    "list_errors = []\n",
    "error_1=mean_squared_error(y_test,error1)\n",
    "list_errors.append(error_1)\n"
   ]
  },
  {
   "cell_type": "markdown",
   "metadata": {},
   "source": [
    "## Decision Tree ##\n"
   ]
  },
  {
   "cell_type": "code",
   "execution_count": 33,
   "metadata": {},
   "outputs": [
    {
     "data": {
      "text/plain": [
       "['mean_radius', 'mean_texture', 'mean_perimeter', 'mean_area']"
      ]
     },
     "execution_count": 33,
     "metadata": {},
     "output_type": "execute_result"
    }
   ],
   "source": [
    "liste = data.columns.tolist()\n",
    "liste.remove('mean_smoothness')\n",
    "liste.remove('diagnosis')\n",
    "liste"
   ]
  },
  {
   "cell_type": "code",
   "execution_count": 34,
   "metadata": {},
   "outputs": [
    {
     "data": {
      "text/plain": [
       "Index(['mean_radius', 'mean_texture', 'mean_perimeter', 'mean_area'], dtype='object')"
      ]
     },
     "execution_count": 34,
     "metadata": {},
     "output_type": "execute_result"
    }
   ],
   "source": [
    "X = data[liste].copy()\n",
    "X.columns"
   ]
  },
  {
   "cell_type": "code",
   "execution_count": 35,
   "metadata": {},
   "outputs": [],
   "source": [
    "y = data[['diagnosis']]"
   ]
  },
  {
   "cell_type": "code",
   "execution_count": 36,
   "metadata": {},
   "outputs": [],
   "source": [
    "X_train, X_test, y_train, y_test = train_test_split(X, y, test_size = 0.2, random_state = 100)"
   ]
  },
  {
   "cell_type": "code",
   "execution_count": 37,
   "metadata": {},
   "outputs": [],
   "source": [
    "y = y_train.values.ravel()\n",
    "y_train = np.array(y).astype(int)"
   ]
  },
  {
   "cell_type": "code",
   "execution_count": 38,
   "metadata": {},
   "outputs": [
    {
     "data": {
      "text/plain": [
       "<matplotlib.legend.Legend at 0x14732abb940>"
      ]
     },
     "execution_count": 38,
     "metadata": {},
     "output_type": "execute_result"
    },
    {
     "data": {
      "image/png": "[encoded data removed]",
      "text/plain": [
       "<Figure size 432x288 with 1 Axes>"
      ]
     },
     "metadata": {},
     "output_type": "display_data"
    }
   ],
   "source": [
    "max_depth = []\n",
    "acc_train = []\n",
    "acc_test = []\n",
    "for i in range(1,15):\n",
    " \n",
    " dtree = DecisionTreeClassifier(criterion='entropy', max_depth=i)\n",
    " dtree.fit(X_train, y_train)\n",
    " pred1 = dtree.predict(X_test)\n",
    " acc_test.append(accuracy_score(y_test, pred1))\n",
    " pred2 = dtree.predict(X_train)\n",
    " acc_train.append(accuracy_score(y_train, pred2))\n",
    " ####\n",
    " max_depth.append(i)\n",
    " d = pd.DataFrame({'accuracy_test':pd.Series(acc_test), \n",
    " 'accuracy_train':pd.Series(acc_train),\n",
    " 'max_depth':pd.Series(max_depth)})\n",
    "\n",
    "plt.plot('max_depth','accuracy_test', data=d, label='test')\n",
    "plt.plot('max_depth','accuracy_train', data=d, label='train')\n",
    "plt.xlabel('ağaç uzunluğu')\n",
    "plt.ylabel('accuracy')\n",
    "plt.legend()\n"
   ]
  },
  {
   "cell_type": "code",
   "execution_count": 39,
   "metadata": {},
   "outputs": [
    {
     "data": {
      "text/html": [
       "<div>\n",
       "<style scoped>\n",
       "    .dataframe tbody tr th:only-of-type {\n",
       "        vertical-align: middle;\n",
       "    }\n",
       "\n",
       "    .dataframe tbody tr th {\n",
       "        vertical-align: top;\n",
       "    }\n",
       "\n",
       "    .dataframe thead th {\n",
       "        text-align: right;\n",
       "    }\n",
       "</style>\n",
       "<table border=\"1\" class=\"dataframe\">\n",
       "  <thead>\n",
       "    <tr style=\"text-align: right;\">\n",
       "      <th></th>\n",
       "      <th>accuracy_test</th>\n",
       "      <th>accuracy_train</th>\n",
       "      <th>max_depth</th>\n",
       "    </tr>\n",
       "  </thead>\n",
       "  <tbody>\n",
       "    <tr>\n",
       "      <th>0</th>\n",
       "      <td>0.858407</td>\n",
       "      <td>0.897321</td>\n",
       "      <td>1</td>\n",
       "    </tr>\n",
       "    <tr>\n",
       "      <th>1</th>\n",
       "      <td>0.858407</td>\n",
       "      <td>0.897321</td>\n",
       "      <td>2</td>\n",
       "    </tr>\n",
       "    <tr>\n",
       "      <th>2</th>\n",
       "      <td>0.858407</td>\n",
       "      <td>0.917411</td>\n",
       "      <td>3</td>\n",
       "    </tr>\n",
       "    <tr>\n",
       "      <th>3</th>\n",
       "      <td>0.876106</td>\n",
       "      <td>0.939732</td>\n",
       "      <td>4</td>\n",
       "    </tr>\n",
       "    <tr>\n",
       "      <th>4</th>\n",
       "      <td>0.876106</td>\n",
       "      <td>0.944196</td>\n",
       "      <td>5</td>\n",
       "    </tr>\n",
       "    <tr>\n",
       "      <th>5</th>\n",
       "      <td>0.867257</td>\n",
       "      <td>0.966518</td>\n",
       "      <td>6</td>\n",
       "    </tr>\n",
       "    <tr>\n",
       "      <th>6</th>\n",
       "      <td>0.876106</td>\n",
       "      <td>0.973214</td>\n",
       "      <td>7</td>\n",
       "    </tr>\n",
       "    <tr>\n",
       "      <th>7</th>\n",
       "      <td>0.858407</td>\n",
       "      <td>0.979911</td>\n",
       "      <td>8</td>\n",
       "    </tr>\n",
       "    <tr>\n",
       "      <th>8</th>\n",
       "      <td>0.867257</td>\n",
       "      <td>0.984375</td>\n",
       "      <td>9</td>\n",
       "    </tr>\n",
       "    <tr>\n",
       "      <th>9</th>\n",
       "      <td>0.867257</td>\n",
       "      <td>0.986607</td>\n",
       "      <td>10</td>\n",
       "    </tr>\n",
       "    <tr>\n",
       "      <th>10</th>\n",
       "      <td>0.858407</td>\n",
       "      <td>0.991071</td>\n",
       "      <td>11</td>\n",
       "    </tr>\n",
       "    <tr>\n",
       "      <th>11</th>\n",
       "      <td>0.867257</td>\n",
       "      <td>0.993304</td>\n",
       "      <td>12</td>\n",
       "    </tr>\n",
       "    <tr>\n",
       "      <th>12</th>\n",
       "      <td>0.858407</td>\n",
       "      <td>0.997768</td>\n",
       "      <td>13</td>\n",
       "    </tr>\n",
       "    <tr>\n",
       "      <th>13</th>\n",
       "      <td>0.858407</td>\n",
       "      <td>1.000000</td>\n",
       "      <td>14</td>\n",
       "    </tr>\n",
       "  </tbody>\n",
       "</table>\n",
       "</div>"
      ],
      "text/plain": [
       "    accuracy_test  accuracy_train  max_depth\n",
       "0        0.858407        0.897321          1\n",
       "1        0.858407        0.897321          2\n",
       "2        0.858407        0.917411          3\n",
       "3        0.876106        0.939732          4\n",
       "4        0.876106        0.944196          5\n",
       "5        0.867257        0.966518          6\n",
       "6        0.876106        0.973214          7\n",
       "7        0.858407        0.979911          8\n",
       "8        0.867257        0.984375          9\n",
       "9        0.867257        0.986607         10\n",
       "10       0.858407        0.991071         11\n",
       "11       0.867257        0.993304         12\n",
       "12       0.858407        0.997768         13\n",
       "13       0.858407        1.000000         14"
      ]
     },
     "execution_count": 39,
     "metadata": {},
     "output_type": "execute_result"
    }
   ],
   "source": [
    "d"
   ]
  },
  {
   "cell_type": "code",
   "execution_count": 40,
   "metadata": {},
   "outputs": [
    {
     "data": {
      "text/plain": [
       "DecisionTreeClassifier(criterion='entropy', max_depth=5, random_state=0)"
      ]
     },
     "execution_count": 40,
     "metadata": {},
     "output_type": "execute_result"
    }
   ],
   "source": [
    "decisiontree = tree.DecisionTreeClassifier(max_depth=5,criterion='entropy',random_state=0)\n",
    "decisiontree.fit(X_train, y_train)"
   ]
  },
  {
   "cell_type": "code",
   "execution_count": 41,
   "metadata": {},
   "outputs": [
    {
     "data": {
      "image/svg+xml": [
       "<?xml version=\"1.0\" encoding=\"UTF-8\" standalone=\"no\"?>\r\n",
       "<!DOCTYPE svg PUBLIC \"-//W3C//DTD SVG 1.1//EN\"\r\n",
       " \"http://www.w3.org/Graphics/SVG/1.1/DTD/svg11.dtd\">\r\n",
       "<!-- Generated by graphviz version 2.38.0 (20140413.2041)\r\n",
       " -->\r\n",
       "<!-- Title: Tree Pages: 1 -->\r\n",
       "<svg width=\"1343pt\" height=\"642pt\"\r\n",
       " viewBox=\"0.00 0.00 1343.00 642.00\" xmlns=\"http://www.w3.org/2000/svg\" xmlns:xlink=\"http://www.w3.org/1999/xlink\">\r\n",
       "<g id=\"graph0\" class=\"graph\" transform=\"scale(1 1) rotate(0) translate(4 638)\">\r\n",
       "<title>Tree</title>\r\n",
       "<polygon fill=\"white\" stroke=\"none\" points=\"-4,4 -4,-638 1339,-638 1339,4 -4,4\"/>\r\n",
       "<!-- 0 -->\r\n",
       "<g id=\"node1\" class=\"node\"><title>0</title>\r\n",
       "<path fill=\"#a9d5f4\" stroke=\"black\" d=\"M928.5,-634C928.5,-634 804.5,-634 804.5,-634 798.5,-634 792.5,-628 792.5,-622 792.5,-622 792.5,-568 792.5,-568 792.5,-562 798.5,-556 804.5,-556 804.5,-556 928.5,-556 928.5,-556 934.5,-556 940.5,-562 940.5,-568 940.5,-568 940.5,-622 940.5,-622 940.5,-628 934.5,-634 928.5,-634\"/>\r\n",
       "<text text-anchor=\"start\" x=\"800.5\" y=\"-619.8\" font-family=\"Helvetica,sans-Serif\" font-size=\"14.00\">mean_area ≤ 696.25</text>\r\n",
       "<text text-anchor=\"start\" x=\"816.5\" y=\"-605.8\" font-family=\"Helvetica,sans-Serif\" font-size=\"14.00\">entropy = 0.944</text>\r\n",
       "<text text-anchor=\"start\" x=\"819\" y=\"-591.8\" font-family=\"Helvetica,sans-Serif\" font-size=\"14.00\">samples = 448</text>\r\n",
       "<text text-anchor=\"start\" x=\"809.5\" y=\"-577.8\" font-family=\"Helvetica,sans-Serif\" font-size=\"14.00\">value = [162, 286]</text>\r\n",
       "<text text-anchor=\"start\" x=\"835\" y=\"-563.8\" font-family=\"Helvetica,sans-Serif\" font-size=\"14.00\">class = y</text>\r\n",
       "<text text-anchor=\"start\" x=\"891\" y=\"-563.8\" font-family=\"Helvetica,sans-Serif\" baseline-shift=\"sub\" font-size=\"14.00\">1</text>\r\n",
       "</g>\r\n",
       "<!-- 1 -->\r\n",
       "<g id=\"node2\" class=\"node\"><title>1</title>\r\n",
       "<path fill=\"#55abe9\" stroke=\"black\" d=\"M682,-520C682,-520 533,-520 533,-520 527,-520 521,-514 521,-508 521,-508 521,-454 521,-454 521,-448 527,-442 533,-442 533,-442 682,-442 682,-442 688,-442 694,-448 694,-454 694,-454 694,-508 694,-508 694,-514 688,-520 682,-520\"/>\r\n",
       "<text text-anchor=\"start\" x=\"529\" y=\"-505.8\" font-family=\"Helvetica,sans-Serif\" font-size=\"14.00\">mean_perimeter ≤ 85.33</text>\r\n",
       "<text text-anchor=\"start\" x=\"557.5\" y=\"-491.8\" font-family=\"Helvetica,sans-Serif\" font-size=\"14.00\">entropy = 0.544</text>\r\n",
       "<text text-anchor=\"start\" x=\"560\" y=\"-477.8\" font-family=\"Helvetica,sans-Serif\" font-size=\"14.00\">samples = 320</text>\r\n",
       "<text text-anchor=\"start\" x=\"554.5\" y=\"-463.8\" font-family=\"Helvetica,sans-Serif\" font-size=\"14.00\">value = [40, 280]</text>\r\n",
       "<text text-anchor=\"start\" x=\"576\" y=\"-449.8\" font-family=\"Helvetica,sans-Serif\" font-size=\"14.00\">class = y</text>\r\n",
       "<text text-anchor=\"start\" x=\"632\" y=\"-449.8\" font-family=\"Helvetica,sans-Serif\" baseline-shift=\"sub\" font-size=\"14.00\">1</text>\r\n",
       "</g>\r\n",
       "<!-- 0&#45;&gt;1 -->\r\n",
       "<g id=\"edge1\" class=\"edge\"><title>0&#45;&gt;1</title>\r\n",
       "<path fill=\"none\" stroke=\"black\" d=\"M792.281,-561.905C764.63,-549.948 732.84,-536.201 703.51,-523.518\"/>\r\n",
       "<polygon fill=\"black\" stroke=\"black\" points=\"704.65,-520.198 694.082,-519.441 701.872,-526.623 704.65,-520.198\"/>\r\n",
       "<text text-anchor=\"middle\" x=\"703.291\" y=\"-538.983\" font-family=\"Helvetica,sans-Serif\" font-size=\"14.00\">True</text>\r\n",
       "</g>\r\n",
       "<!-- 22 -->\r\n",
       "<g id=\"node23\" class=\"node\"><title>22</title>\r\n",
       "<path fill=\"#e68743\" stroke=\"black\" d=\"M1191,-520C1191,-520 1060,-520 1060,-520 1054,-520 1048,-514 1048,-508 1048,-508 1048,-454 1048,-454 1048,-448 1054,-442 1060,-442 1060,-442 1191,-442 1191,-442 1197,-442 1203,-448 1203,-454 1203,-454 1203,-508 1203,-508 1203,-514 1197,-520 1191,-520\"/>\r\n",
       "<text text-anchor=\"start\" x=\"1056\" y=\"-505.8\" font-family=\"Helvetica,sans-Serif\" font-size=\"14.00\">mean_texture ≤ 19.47</text>\r\n",
       "<text text-anchor=\"start\" x=\"1075.5\" y=\"-491.8\" font-family=\"Helvetica,sans-Serif\" font-size=\"14.00\">entropy = 0.273</text>\r\n",
       "<text text-anchor=\"start\" x=\"1078\" y=\"-477.8\" font-family=\"Helvetica,sans-Serif\" font-size=\"14.00\">samples = 128</text>\r\n",
       "<text text-anchor=\"start\" x=\"1077\" y=\"-463.8\" font-family=\"Helvetica,sans-Serif\" font-size=\"14.00\">value = [122, 6]</text>\r\n",
       "<text text-anchor=\"start\" x=\"1094\" y=\"-449.8\" font-family=\"Helvetica,sans-Serif\" font-size=\"14.00\">class = y</text>\r\n",
       "<text text-anchor=\"start\" x=\"1150\" y=\"-449.8\" font-family=\"Helvetica,sans-Serif\" baseline-shift=\"sub\" font-size=\"14.00\">0</text>\r\n",
       "</g>\r\n",
       "<!-- 0&#45;&gt;22 -->\r\n",
       "<g id=\"edge22\" class=\"edge\"><title>0&#45;&gt;22</title>\r\n",
       "<path fill=\"none\" stroke=\"black\" d=\"M940.719,-561.905C971.194,-548.727 1006.7,-533.374 1038.39,-519.668\"/>\r\n",
       "<polygon fill=\"black\" stroke=\"black\" points=\"1039.87,-522.842 1047.66,-515.661 1037.09,-516.417 1039.87,-522.842\"/>\r\n",
       "<text text-anchor=\"middle\" x=\"1038.45\" y=\"-535.203\" font-family=\"Helvetica,sans-Serif\" font-size=\"14.00\">False</text>\r\n",
       "</g>\r\n",
       "<!-- 2 -->\r\n",
       "<g id=\"node3\" class=\"node\"><title>2</title>\r\n",
       "<path fill=\"#40a0e6\" stroke=\"black\" d=\"M273,-406C273,-406 124,-406 124,-406 118,-406 112,-400 112,-394 112,-394 112,-340 112,-340 112,-334 118,-328 124,-328 124,-328 273,-328 273,-328 279,-328 285,-334 285,-340 285,-340 285,-394 285,-394 285,-400 279,-406 273,-406\"/>\r\n",
       "<text text-anchor=\"start\" x=\"120\" y=\"-391.8\" font-family=\"Helvetica,sans-Serif\" font-size=\"14.00\">mean_perimeter ≤ 71.85</text>\r\n",
       "<text text-anchor=\"start\" x=\"148.5\" y=\"-377.8\" font-family=\"Helvetica,sans-Serif\" font-size=\"14.00\">entropy = 0.206</text>\r\n",
       "<text text-anchor=\"start\" x=\"151\" y=\"-363.8\" font-family=\"Helvetica,sans-Serif\" font-size=\"14.00\">samples = 216</text>\r\n",
       "<text text-anchor=\"start\" x=\"150\" y=\"-349.8\" font-family=\"Helvetica,sans-Serif\" font-size=\"14.00\">value = [7, 209]</text>\r\n",
       "<text text-anchor=\"start\" x=\"167\" y=\"-335.8\" font-family=\"Helvetica,sans-Serif\" font-size=\"14.00\">class = y</text>\r\n",
       "<text text-anchor=\"start\" x=\"223\" y=\"-335.8\" font-family=\"Helvetica,sans-Serif\" baseline-shift=\"sub\" font-size=\"14.00\">1</text>\r\n",
       "</g>\r\n",
       "<!-- 1&#45;&gt;2 -->\r\n",
       "<g id=\"edge2\" class=\"edge\"><title>1&#45;&gt;2</title>\r\n",
       "<path fill=\"none\" stroke=\"black\" d=\"M520.762,-456.248C454.606,-438.132 363.51,-413.186 295.045,-394.438\"/>\r\n",
       "<polygon fill=\"black\" stroke=\"black\" points=\"295.683,-390.984 285.113,-391.718 293.834,-397.735 295.683,-390.984\"/>\r\n",
       "</g>\r\n",
       "<!-- 9 -->\r\n",
       "<g id=\"node10\" class=\"node\"><title>9</title>\r\n",
       "<path fill=\"#95cbf1\" stroke=\"black\" d=\"M673,-406C673,-406 542,-406 542,-406 536,-406 530,-400 530,-394 530,-394 530,-340 530,-340 530,-334 536,-328 542,-328 542,-328 673,-328 673,-328 679,-328 685,-334 685,-340 685,-340 685,-394 685,-394 685,-400 679,-406 673,-406\"/>\r\n",
       "<text text-anchor=\"start\" x=\"538\" y=\"-391.8\" font-family=\"Helvetica,sans-Serif\" font-size=\"14.00\">mean_texture ≤ 19.61</text>\r\n",
       "<text text-anchor=\"start\" x=\"557.5\" y=\"-377.8\" font-family=\"Helvetica,sans-Serif\" font-size=\"14.00\">entropy = 0.901</text>\r\n",
       "<text text-anchor=\"start\" x=\"560\" y=\"-363.8\" font-family=\"Helvetica,sans-Serif\" font-size=\"14.00\">samples = 104</text>\r\n",
       "<text text-anchor=\"start\" x=\"559\" y=\"-349.8\" font-family=\"Helvetica,sans-Serif\" font-size=\"14.00\">value = [33, 71]</text>\r\n",
       "<text text-anchor=\"start\" x=\"576\" y=\"-335.8\" font-family=\"Helvetica,sans-Serif\" font-size=\"14.00\">class = y</text>\r\n",
       "<text text-anchor=\"start\" x=\"632\" y=\"-335.8\" font-family=\"Helvetica,sans-Serif\" baseline-shift=\"sub\" font-size=\"14.00\">1</text>\r\n",
       "</g>\r\n",
       "<!-- 1&#45;&gt;9 -->\r\n",
       "<g id=\"edge9\" class=\"edge\"><title>1&#45;&gt;9</title>\r\n",
       "<path fill=\"none\" stroke=\"black\" d=\"M607.5,-441.769C607.5,-433.57 607.5,-424.803 607.5,-416.28\"/>\r\n",
       "<polygon fill=\"black\" stroke=\"black\" points=\"611,-416.058 607.5,-406.058 604,-416.059 611,-416.058\"/>\r\n",
       "</g>\r\n",
       "<!-- 3 -->\r\n",
       "<g id=\"node4\" class=\"node\"><title>3</title>\r\n",
       "<path fill=\"#399de5\" stroke=\"black\" d=\"M93,-285C93,-285 12,-285 12,-285 6,-285 0,-279 0,-273 0,-273 0,-233 0,-233 0,-227 6,-221 12,-221 12,-221 93,-221 93,-221 99,-221 105,-227 105,-233 105,-233 105,-273 105,-273 105,-279 99,-285 93,-285\"/>\r\n",
       "<text text-anchor=\"start\" x=\"10.5\" y=\"-270.8\" font-family=\"Helvetica,sans-Serif\" font-size=\"14.00\">entropy = 0.0</text>\r\n",
       "<text text-anchor=\"start\" x=\"9\" y=\"-256.8\" font-family=\"Helvetica,sans-Serif\" font-size=\"14.00\">samples = 79</text>\r\n",
       "<text text-anchor=\"start\" x=\"8\" y=\"-242.8\" font-family=\"Helvetica,sans-Serif\" font-size=\"14.00\">value = [0, 79]</text>\r\n",
       "<text text-anchor=\"start\" x=\"21\" y=\"-228.8\" font-family=\"Helvetica,sans-Serif\" font-size=\"14.00\">class = y</text>\r\n",
       "<text text-anchor=\"start\" x=\"77\" y=\"-228.8\" font-family=\"Helvetica,sans-Serif\" baseline-shift=\"sub\" font-size=\"14.00\">1</text>\r\n",
       "</g>\r\n",
       "<!-- 2&#45;&gt;3 -->\r\n",
       "<g id=\"edge3\" class=\"edge\"><title>2&#45;&gt;3</title>\r\n",
       "<path fill=\"none\" stroke=\"black\" d=\"M148.663,-327.769C133.329,-316.006 116.474,-303.076 101.216,-291.371\"/>\r\n",
       "<polygon fill=\"black\" stroke=\"black\" points=\"102.988,-288.32 92.9238,-285.01 98.7278,-293.874 102.988,-288.32\"/>\r\n",
       "</g>\r\n",
       "<!-- 4 -->\r\n",
       "<g id=\"node5\" class=\"node\"><title>4</title>\r\n",
       "<path fill=\"#44a2e6\" stroke=\"black\" d=\"M261.5,-292C261.5,-292 135.5,-292 135.5,-292 129.5,-292 123.5,-286 123.5,-280 123.5,-280 123.5,-226 123.5,-226 123.5,-220 129.5,-214 135.5,-214 135.5,-214 261.5,-214 261.5,-214 267.5,-214 273.5,-220 273.5,-226 273.5,-226 273.5,-280 273.5,-280 273.5,-286 267.5,-292 261.5,-292\"/>\r\n",
       "<text text-anchor=\"start\" x=\"131.5\" y=\"-277.8\" font-family=\"Helvetica,sans-Serif\" font-size=\"14.00\">mean_radius ≤ 11.15</text>\r\n",
       "<text text-anchor=\"start\" x=\"148.5\" y=\"-263.8\" font-family=\"Helvetica,sans-Serif\" font-size=\"14.00\">entropy = 0.291</text>\r\n",
       "<text text-anchor=\"start\" x=\"151\" y=\"-249.8\" font-family=\"Helvetica,sans-Serif\" font-size=\"14.00\">samples = 137</text>\r\n",
       "<text text-anchor=\"start\" x=\"150\" y=\"-235.8\" font-family=\"Helvetica,sans-Serif\" font-size=\"14.00\">value = [7, 130]</text>\r\n",
       "<text text-anchor=\"start\" x=\"167\" y=\"-221.8\" font-family=\"Helvetica,sans-Serif\" font-size=\"14.00\">class = y</text>\r\n",
       "<text text-anchor=\"start\" x=\"223\" y=\"-221.8\" font-family=\"Helvetica,sans-Serif\" baseline-shift=\"sub\" font-size=\"14.00\">1</text>\r\n",
       "</g>\r\n",
       "<!-- 2&#45;&gt;4 -->\r\n",
       "<g id=\"edge4\" class=\"edge\"><title>2&#45;&gt;4</title>\r\n",
       "<path fill=\"none\" stroke=\"black\" d=\"M198.5,-327.769C198.5,-319.57 198.5,-310.803 198.5,-302.28\"/>\r\n",
       "<polygon fill=\"black\" stroke=\"black\" points=\"202,-302.058 198.5,-292.058 195,-302.059 202,-302.058\"/>\r\n",
       "</g>\r\n",
       "<!-- 5 -->\r\n",
       "<g id=\"node6\" class=\"node\"><title>5</title>\r\n",
       "<path fill=\"#e58139\" stroke=\"black\" d=\"M90.5,-171C90.5,-171 14.5,-171 14.5,-171 8.5,-171 2.5,-165 2.5,-159 2.5,-159 2.5,-119 2.5,-119 2.5,-113 8.5,-107 14.5,-107 14.5,-107 90.5,-107 90.5,-107 96.5,-107 102.5,-113 102.5,-119 102.5,-119 102.5,-159 102.5,-159 102.5,-165 96.5,-171 90.5,-171\"/>\r\n",
       "<text text-anchor=\"start\" x=\"10.5\" y=\"-156.8\" font-family=\"Helvetica,sans-Serif\" font-size=\"14.00\">entropy = 0.0</text>\r\n",
       "<text text-anchor=\"start\" x=\"13\" y=\"-142.8\" font-family=\"Helvetica,sans-Serif\" font-size=\"14.00\">samples = 2</text>\r\n",
       "<text text-anchor=\"start\" x=\"12\" y=\"-128.8\" font-family=\"Helvetica,sans-Serif\" font-size=\"14.00\">value = [2, 0]</text>\r\n",
       "<text text-anchor=\"start\" x=\"21\" y=\"-114.8\" font-family=\"Helvetica,sans-Serif\" font-size=\"14.00\">class = y</text>\r\n",
       "<text text-anchor=\"start\" x=\"77\" y=\"-114.8\" font-family=\"Helvetica,sans-Serif\" baseline-shift=\"sub\" font-size=\"14.00\">0</text>\r\n",
       "</g>\r\n",
       "<!-- 4&#45;&gt;5 -->\r\n",
       "<g id=\"edge5\" class=\"edge\"><title>4&#45;&gt;5</title>\r\n",
       "<path fill=\"none\" stroke=\"black\" d=\"M148.663,-213.769C133.329,-202.006 116.474,-189.076 101.216,-177.371\"/>\r\n",
       "<polygon fill=\"black\" stroke=\"black\" points=\"102.988,-174.32 92.9238,-171.01 98.7278,-179.874 102.988,-174.32\"/>\r\n",
       "</g>\r\n",
       "<!-- 6 -->\r\n",
       "<g id=\"node7\" class=\"node\"><title>6</title>\r\n",
       "<path fill=\"#41a1e6\" stroke=\"black\" d=\"M264,-178C264,-178 133,-178 133,-178 127,-178 121,-172 121,-166 121,-166 121,-112 121,-112 121,-106 127,-100 133,-100 133,-100 264,-100 264,-100 270,-100 276,-106 276,-112 276,-112 276,-166 276,-166 276,-172 270,-178 264,-178\"/>\r\n",
       "<text text-anchor=\"start\" x=\"129\" y=\"-163.8\" font-family=\"Helvetica,sans-Serif\" font-size=\"14.00\">mean_texture ≤ 23.28</text>\r\n",
       "<text text-anchor=\"start\" x=\"148.5\" y=\"-149.8\" font-family=\"Helvetica,sans-Serif\" font-size=\"14.00\">entropy = 0.229</text>\r\n",
       "<text text-anchor=\"start\" x=\"151\" y=\"-135.8\" font-family=\"Helvetica,sans-Serif\" font-size=\"14.00\">samples = 135</text>\r\n",
       "<text text-anchor=\"start\" x=\"150\" y=\"-121.8\" font-family=\"Helvetica,sans-Serif\" font-size=\"14.00\">value = [5, 130]</text>\r\n",
       "<text text-anchor=\"start\" x=\"167\" y=\"-107.8\" font-family=\"Helvetica,sans-Serif\" font-size=\"14.00\">class = y</text>\r\n",
       "<text text-anchor=\"start\" x=\"223\" y=\"-107.8\" font-family=\"Helvetica,sans-Serif\" baseline-shift=\"sub\" font-size=\"14.00\">1</text>\r\n",
       "</g>\r\n",
       "<!-- 4&#45;&gt;6 -->\r\n",
       "<g id=\"edge6\" class=\"edge\"><title>4&#45;&gt;6</title>\r\n",
       "<path fill=\"none\" stroke=\"black\" d=\"M198.5,-213.769C198.5,-205.57 198.5,-196.803 198.5,-188.28\"/>\r\n",
       "<polygon fill=\"black\" stroke=\"black\" points=\"202,-188.058 198.5,-178.058 195,-188.059 202,-188.058\"/>\r\n",
       "</g>\r\n",
       "<!-- 7 -->\r\n",
       "<g id=\"node8\" class=\"node\"><title>7</title>\r\n",
       "<path fill=\"#3e9fe6\" stroke=\"black\" d=\"M138.5,-64C138.5,-64 46.5,-64 46.5,-64 40.5,-64 34.5,-58 34.5,-52 34.5,-52 34.5,-12 34.5,-12 34.5,-6 40.5,-0 46.5,-0 46.5,-0 138.5,-0 138.5,-0 144.5,-0 150.5,-6 150.5,-12 150.5,-12 150.5,-52 150.5,-52 150.5,-58 144.5,-64 138.5,-64\"/>\r\n",
       "<text text-anchor=\"start\" x=\"42.5\" y=\"-49.8\" font-family=\"Helvetica,sans-Serif\" font-size=\"14.00\">entropy = 0.165</text>\r\n",
       "<text text-anchor=\"start\" x=\"45\" y=\"-35.8\" font-family=\"Helvetica,sans-Serif\" font-size=\"14.00\">samples = 123</text>\r\n",
       "<text text-anchor=\"start\" x=\"44\" y=\"-21.8\" font-family=\"Helvetica,sans-Serif\" font-size=\"14.00\">value = [3, 120]</text>\r\n",
       "<text text-anchor=\"start\" x=\"61\" y=\"-7.8\" font-family=\"Helvetica,sans-Serif\" font-size=\"14.00\">class = y</text>\r\n",
       "<text text-anchor=\"start\" x=\"117\" y=\"-7.8\" font-family=\"Helvetica,sans-Serif\" baseline-shift=\"sub\" font-size=\"14.00\">1</text>\r\n",
       "</g>\r\n",
       "<!-- 6&#45;&gt;7 -->\r\n",
       "<g id=\"edge7\" class=\"edge\"><title>6&#45;&gt;7</title>\r\n",
       "<path fill=\"none\" stroke=\"black\" d=\"M159.932,-99.7956C150.59,-90.5419 140.601,-80.6469 131.251,-71.385\"/>\r\n",
       "<polygon fill=\"black\" stroke=\"black\" points=\"133.481,-68.6681 123.914,-64.1172 128.555,-73.6413 133.481,-68.6681\"/>\r\n",
       "</g>\r\n",
       "<!-- 8 -->\r\n",
       "<g id=\"node9\" class=\"node\"><title>8</title>\r\n",
       "<path fill=\"#61b1ea\" stroke=\"black\" d=\"M264.5,-64C264.5,-64 180.5,-64 180.5,-64 174.5,-64 168.5,-58 168.5,-52 168.5,-52 168.5,-12 168.5,-12 168.5,-6 174.5,-0 180.5,-0 180.5,-0 264.5,-0 264.5,-0 270.5,-0 276.5,-6 276.5,-12 276.5,-12 276.5,-52 276.5,-52 276.5,-58 270.5,-64 264.5,-64\"/>\r\n",
       "<text text-anchor=\"start\" x=\"176.5\" y=\"-49.8\" font-family=\"Helvetica,sans-Serif\" font-size=\"14.00\">entropy = 0.65</text>\r\n",
       "<text text-anchor=\"start\" x=\"179\" y=\"-35.8\" font-family=\"Helvetica,sans-Serif\" font-size=\"14.00\">samples = 12</text>\r\n",
       "<text text-anchor=\"start\" x=\"178\" y=\"-21.8\" font-family=\"Helvetica,sans-Serif\" font-size=\"14.00\">value = [2, 10]</text>\r\n",
       "<text text-anchor=\"start\" x=\"191\" y=\"-7.8\" font-family=\"Helvetica,sans-Serif\" font-size=\"14.00\">class = y</text>\r\n",
       "<text text-anchor=\"start\" x=\"247\" y=\"-7.8\" font-family=\"Helvetica,sans-Serif\" baseline-shift=\"sub\" font-size=\"14.00\">1</text>\r\n",
       "</g>\r\n",
       "<!-- 6&#45;&gt;8 -->\r\n",
       "<g id=\"edge8\" class=\"edge\"><title>6&#45;&gt;8</title>\r\n",
       "<path fill=\"none\" stroke=\"black\" d=\"M207.232,-99.7956C209.159,-91.3665 211.207,-82.4053 213.157,-73.8751\"/>\r\n",
       "<polygon fill=\"black\" stroke=\"black\" points=\"216.571,-74.6457 215.388,-64.1172 209.747,-73.0858 216.571,-74.6457\"/>\r\n",
       "</g>\r\n",
       "<!-- 10 -->\r\n",
       "<g id=\"node11\" class=\"node\"><title>10</title>\r\n",
       "<path fill=\"#4ca6e8\" stroke=\"black\" d=\"M573,-292C573,-292 442,-292 442,-292 436,-292 430,-286 430,-280 430,-280 430,-226 430,-226 430,-220 436,-214 442,-214 442,-214 573,-214 573,-214 579,-214 585,-220 585,-226 585,-226 585,-280 585,-280 585,-286 579,-292 573,-292\"/>\r\n",
       "<text text-anchor=\"start\" x=\"438\" y=\"-277.8\" font-family=\"Helvetica,sans-Serif\" font-size=\"14.00\">mean_texture ≤ 15.75</text>\r\n",
       "<text text-anchor=\"start\" x=\"457.5\" y=\"-263.8\" font-family=\"Helvetica,sans-Serif\" font-size=\"14.00\">entropy = 0.429</text>\r\n",
       "<text text-anchor=\"start\" x=\"464\" y=\"-249.8\" font-family=\"Helvetica,sans-Serif\" font-size=\"14.00\">samples = 57</text>\r\n",
       "<text text-anchor=\"start\" x=\"463\" y=\"-235.8\" font-family=\"Helvetica,sans-Serif\" font-size=\"14.00\">value = [5, 52]</text>\r\n",
       "<text text-anchor=\"start\" x=\"476\" y=\"-221.8\" font-family=\"Helvetica,sans-Serif\" font-size=\"14.00\">class = y</text>\r\n",
       "<text text-anchor=\"start\" x=\"532\" y=\"-221.8\" font-family=\"Helvetica,sans-Serif\" baseline-shift=\"sub\" font-size=\"14.00\">1</text>\r\n",
       "</g>\r\n",
       "<!-- 9&#45;&gt;10 -->\r\n",
       "<g id=\"edge10\" class=\"edge\"><title>9&#45;&gt;10</title>\r\n",
       "<path fill=\"none\" stroke=\"black\" d=\"M573.365,-327.769C565.32,-318.759 556.664,-309.064 548.356,-299.759\"/>\r\n",
       "<polygon fill=\"black\" stroke=\"black\" points=\"550.752,-297.187 541.481,-292.058 545.53,-301.849 550.752,-297.187\"/>\r\n",
       "</g>\r\n",
       "<!-- 15 -->\r\n",
       "<g id=\"node16\" class=\"node\"><title>15</title>\r\n",
       "<path fill=\"#f7d7bf\" stroke=\"black\" d=\"M785,-292C785,-292 628,-292 628,-292 622,-292 616,-286 616,-280 616,-280 616,-226 616,-226 616,-220 622,-214 628,-214 628,-214 785,-214 785,-214 791,-214 797,-220 797,-226 797,-226 797,-280 797,-280 797,-286 791,-292 785,-292\"/>\r\n",
       "<text text-anchor=\"start\" x=\"624\" y=\"-277.8\" font-family=\"Helvetica,sans-Serif\" font-size=\"14.00\">mean_perimeter ≤ 87.255</text>\r\n",
       "<text text-anchor=\"start\" x=\"656.5\" y=\"-263.8\" font-family=\"Helvetica,sans-Serif\" font-size=\"14.00\">entropy = 0.973</text>\r\n",
       "<text text-anchor=\"start\" x=\"663\" y=\"-249.8\" font-family=\"Helvetica,sans-Serif\" font-size=\"14.00\">samples = 47</text>\r\n",
       "<text text-anchor=\"start\" x=\"658\" y=\"-235.8\" font-family=\"Helvetica,sans-Serif\" font-size=\"14.00\">value = [28, 19]</text>\r\n",
       "<text text-anchor=\"start\" x=\"675\" y=\"-221.8\" font-family=\"Helvetica,sans-Serif\" font-size=\"14.00\">class = y</text>\r\n",
       "<text text-anchor=\"start\" x=\"731\" y=\"-221.8\" font-family=\"Helvetica,sans-Serif\" baseline-shift=\"sub\" font-size=\"14.00\">0</text>\r\n",
       "</g>\r\n",
       "<!-- 9&#45;&gt;15 -->\r\n",
       "<g id=\"edge15\" class=\"edge\"><title>9&#45;&gt;15</title>\r\n",
       "<path fill=\"none\" stroke=\"black\" d=\"M641.293,-327.769C649.258,-318.759 657.828,-309.064 666.052,-299.759\"/>\r\n",
       "<polygon fill=\"black\" stroke=\"black\" points=\"668.859,-301.869 672.859,-292.058 663.614,-297.233 668.859,-301.869\"/>\r\n",
       "</g>\r\n",
       "<!-- 11 -->\r\n",
       "<g id=\"node12\" class=\"node\"><title>11</title>\r\n",
       "<path fill=\"#399de5\" stroke=\"black\" d=\"M387,-171C387,-171 306,-171 306,-171 300,-171 294,-165 294,-159 294,-159 294,-119 294,-119 294,-113 300,-107 306,-107 306,-107 387,-107 387,-107 393,-107 399,-113 399,-119 399,-119 399,-159 399,-159 399,-165 393,-171 387,-171\"/>\r\n",
       "<text text-anchor=\"start\" x=\"304.5\" y=\"-156.8\" font-family=\"Helvetica,sans-Serif\" font-size=\"14.00\">entropy = 0.0</text>\r\n",
       "<text text-anchor=\"start\" x=\"303\" y=\"-142.8\" font-family=\"Helvetica,sans-Serif\" font-size=\"14.00\">samples = 23</text>\r\n",
       "<text text-anchor=\"start\" x=\"302\" y=\"-128.8\" font-family=\"Helvetica,sans-Serif\" font-size=\"14.00\">value = [0, 23]</text>\r\n",
       "<text text-anchor=\"start\" x=\"315\" y=\"-114.8\" font-family=\"Helvetica,sans-Serif\" font-size=\"14.00\">class = y</text>\r\n",
       "<text text-anchor=\"start\" x=\"371\" y=\"-114.8\" font-family=\"Helvetica,sans-Serif\" baseline-shift=\"sub\" font-size=\"14.00\">1</text>\r\n",
       "</g>\r\n",
       "<!-- 10&#45;&gt;11 -->\r\n",
       "<g id=\"edge11\" class=\"edge\"><title>10&#45;&gt;11</title>\r\n",
       "<path fill=\"none\" stroke=\"black\" d=\"M452.543,-213.769C435.321,-201.788 416.358,-188.597 399.288,-176.722\"/>\r\n",
       "<polygon fill=\"black\" stroke=\"black\" points=\"401.285,-173.848 391.077,-171.01 397.287,-179.594 401.285,-173.848\"/>\r\n",
       "</g>\r\n",
       "<!-- 12 -->\r\n",
       "<g id=\"node13\" class=\"node\"><title>12</title>\r\n",
       "<path fill=\"#5baee9\" stroke=\"black\" d=\"M586,-178C586,-178 429,-178 429,-178 423,-178 417,-172 417,-166 417,-166 417,-112 417,-112 417,-106 423,-100 429,-100 429,-100 586,-100 586,-100 592,-100 598,-106 598,-112 598,-112 598,-166 598,-166 598,-172 592,-178 586,-178\"/>\r\n",
       "<text text-anchor=\"start\" x=\"425\" y=\"-163.8\" font-family=\"Helvetica,sans-Serif\" font-size=\"14.00\">mean_perimeter ≤ 90.105</text>\r\n",
       "<text text-anchor=\"start\" x=\"457.5\" y=\"-149.8\" font-family=\"Helvetica,sans-Serif\" font-size=\"14.00\">entropy = 0.602</text>\r\n",
       "<text text-anchor=\"start\" x=\"464\" y=\"-135.8\" font-family=\"Helvetica,sans-Serif\" font-size=\"14.00\">samples = 34</text>\r\n",
       "<text text-anchor=\"start\" x=\"463\" y=\"-121.8\" font-family=\"Helvetica,sans-Serif\" font-size=\"14.00\">value = [5, 29]</text>\r\n",
       "<text text-anchor=\"start\" x=\"476\" y=\"-107.8\" font-family=\"Helvetica,sans-Serif\" font-size=\"14.00\">class = y</text>\r\n",
       "<text text-anchor=\"start\" x=\"532\" y=\"-107.8\" font-family=\"Helvetica,sans-Serif\" baseline-shift=\"sub\" font-size=\"14.00\">1</text>\r\n",
       "</g>\r\n",
       "<!-- 10&#45;&gt;12 -->\r\n",
       "<g id=\"edge12\" class=\"edge\"><title>10&#45;&gt;12</title>\r\n",
       "<path fill=\"none\" stroke=\"black\" d=\"M507.5,-213.769C507.5,-205.57 507.5,-196.803 507.5,-188.28\"/>\r\n",
       "<polygon fill=\"black\" stroke=\"black\" points=\"511,-188.058 507.5,-178.058 504,-188.059 511,-188.058\"/>\r\n",
       "</g>\r\n",
       "<!-- 13 -->\r\n",
       "<g id=\"node14\" class=\"node\"><title>13</title>\r\n",
       "<path fill=\"#43a2e6\" stroke=\"black\" d=\"M423.5,-64C423.5,-64 331.5,-64 331.5,-64 325.5,-64 319.5,-58 319.5,-52 319.5,-52 319.5,-12 319.5,-12 319.5,-6 325.5,-0 331.5,-0 331.5,-0 423.5,-0 423.5,-0 429.5,-0 435.5,-6 435.5,-12 435.5,-12 435.5,-52 435.5,-52 435.5,-58 429.5,-64 423.5,-64\"/>\r\n",
       "<text text-anchor=\"start\" x=\"327.5\" y=\"-49.8\" font-family=\"Helvetica,sans-Serif\" font-size=\"14.00\">entropy = 0.276</text>\r\n",
       "<text text-anchor=\"start\" x=\"334\" y=\"-35.8\" font-family=\"Helvetica,sans-Serif\" font-size=\"14.00\">samples = 21</text>\r\n",
       "<text text-anchor=\"start\" x=\"333\" y=\"-21.8\" font-family=\"Helvetica,sans-Serif\" font-size=\"14.00\">value = [1, 20]</text>\r\n",
       "<text text-anchor=\"start\" x=\"346\" y=\"-7.8\" font-family=\"Helvetica,sans-Serif\" font-size=\"14.00\">class = y</text>\r\n",
       "<text text-anchor=\"start\" x=\"402\" y=\"-7.8\" font-family=\"Helvetica,sans-Serif\" baseline-shift=\"sub\" font-size=\"14.00\">1</text>\r\n",
       "</g>\r\n",
       "<!-- 12&#45;&gt;13 -->\r\n",
       "<g id=\"edge13\" class=\"edge\"><title>12&#45;&gt;13</title>\r\n",
       "<path fill=\"none\" stroke=\"black\" d=\"M460.199,-99.7956C448.402,-90.2671 435.763,-80.0585 424.005,-70.5614\"/>\r\n",
       "<polygon fill=\"black\" stroke=\"black\" points=\"426.005,-67.6778 416.026,-64.1172 421.606,-73.1234 426.005,-67.6778\"/>\r\n",
       "</g>\r\n",
       "<!-- 14 -->\r\n",
       "<g id=\"node15\" class=\"node\"><title>14</title>\r\n",
       "<path fill=\"#91c9f1\" stroke=\"black\" d=\"M549.5,-64C549.5,-64 465.5,-64 465.5,-64 459.5,-64 453.5,-58 453.5,-52 453.5,-52 453.5,-12 453.5,-12 453.5,-6 459.5,-0 465.5,-0 465.5,-0 549.5,-0 549.5,-0 555.5,-0 561.5,-6 561.5,-12 561.5,-12 561.5,-52 561.5,-52 561.5,-58 555.5,-64 549.5,-64\"/>\r\n",
       "<text text-anchor=\"start\" x=\"461.5\" y=\"-49.8\" font-family=\"Helvetica,sans-Serif\" font-size=\"14.00\">entropy = 0.89</text>\r\n",
       "<text text-anchor=\"start\" x=\"464\" y=\"-35.8\" font-family=\"Helvetica,sans-Serif\" font-size=\"14.00\">samples = 13</text>\r\n",
       "<text text-anchor=\"start\" x=\"467\" y=\"-21.8\" font-family=\"Helvetica,sans-Serif\" font-size=\"14.00\">value = [4, 9]</text>\r\n",
       "<text text-anchor=\"start\" x=\"476\" y=\"-7.8\" font-family=\"Helvetica,sans-Serif\" font-size=\"14.00\">class = y</text>\r\n",
       "<text text-anchor=\"start\" x=\"532\" y=\"-7.8\" font-family=\"Helvetica,sans-Serif\" baseline-shift=\"sub\" font-size=\"14.00\">1</text>\r\n",
       "</g>\r\n",
       "<!-- 12&#45;&gt;14 -->\r\n",
       "<g id=\"edge14\" class=\"edge\"><title>12&#45;&gt;14</title>\r\n",
       "<path fill=\"none\" stroke=\"black\" d=\"M507.5,-99.7956C507.5,-91.4581 507.5,-82.6 507.5,-74.1534\"/>\r\n",
       "<polygon fill=\"black\" stroke=\"black\" points=\"511,-74.1171 507.5,-64.1172 504,-74.1172 511,-74.1171\"/>\r\n",
       "</g>\r\n",
       "<!-- 16 -->\r\n",
       "<g id=\"node17\" class=\"node\"><title>16</title>\r\n",
       "<path fill=\"#7bbeee\" stroke=\"black\" d=\"M785,-178C785,-178 628,-178 628,-178 622,-178 616,-172 616,-166 616,-166 616,-112 616,-112 616,-106 622,-100 628,-100 628,-100 785,-100 785,-100 791,-100 797,-106 797,-112 797,-112 797,-166 797,-166 797,-172 791,-178 785,-178\"/>\r\n",
       "<text text-anchor=\"start\" x=\"624\" y=\"-163.8\" font-family=\"Helvetica,sans-Serif\" font-size=\"14.00\">mean_perimeter ≤ 85.865</text>\r\n",
       "<text text-anchor=\"start\" x=\"656.5\" y=\"-149.8\" font-family=\"Helvetica,sans-Serif\" font-size=\"14.00\">entropy = 0.811</text>\r\n",
       "<text text-anchor=\"start\" x=\"667\" y=\"-135.8\" font-family=\"Helvetica,sans-Serif\" font-size=\"14.00\">samples = 8</text>\r\n",
       "<text text-anchor=\"start\" x=\"666\" y=\"-121.8\" font-family=\"Helvetica,sans-Serif\" font-size=\"14.00\">value = [2, 6]</text>\r\n",
       "<text text-anchor=\"start\" x=\"675\" y=\"-107.8\" font-family=\"Helvetica,sans-Serif\" font-size=\"14.00\">class = y</text>\r\n",
       "<text text-anchor=\"start\" x=\"731\" y=\"-107.8\" font-family=\"Helvetica,sans-Serif\" baseline-shift=\"sub\" font-size=\"14.00\">1</text>\r\n",
       "</g>\r\n",
       "<!-- 15&#45;&gt;16 -->\r\n",
       "<g id=\"edge16\" class=\"edge\"><title>15&#45;&gt;16</title>\r\n",
       "<path fill=\"none\" stroke=\"black\" d=\"M706.5,-213.769C706.5,-205.57 706.5,-196.803 706.5,-188.28\"/>\r\n",
       "<polygon fill=\"black\" stroke=\"black\" points=\"710,-188.058 706.5,-178.058 703,-188.059 710,-188.058\"/>\r\n",
       "</g>\r\n",
       "<!-- 19 -->\r\n",
       "<g id=\"node20\" class=\"node\"><title>19</title>\r\n",
       "<path fill=\"#f2c09c\" stroke=\"black\" d=\"M951.5,-178C951.5,-178 827.5,-178 827.5,-178 821.5,-178 815.5,-172 815.5,-166 815.5,-166 815.5,-112 815.5,-112 815.5,-106 821.5,-100 827.5,-100 827.5,-100 951.5,-100 951.5,-100 957.5,-100 963.5,-106 963.5,-112 963.5,-112 963.5,-166 963.5,-166 963.5,-172 957.5,-178 951.5,-178\"/>\r\n",
       "<text text-anchor=\"start\" x=\"823.5\" y=\"-163.8\" font-family=\"Helvetica,sans-Serif\" font-size=\"14.00\">mean_area ≤ 583.75</text>\r\n",
       "<text text-anchor=\"start\" x=\"839.5\" y=\"-149.8\" font-family=\"Helvetica,sans-Serif\" font-size=\"14.00\">entropy = 0.918</text>\r\n",
       "<text text-anchor=\"start\" x=\"846\" y=\"-135.8\" font-family=\"Helvetica,sans-Serif\" font-size=\"14.00\">samples = 39</text>\r\n",
       "<text text-anchor=\"start\" x=\"841\" y=\"-121.8\" font-family=\"Helvetica,sans-Serif\" font-size=\"14.00\">value = [26, 13]</text>\r\n",
       "<text text-anchor=\"start\" x=\"858\" y=\"-107.8\" font-family=\"Helvetica,sans-Serif\" font-size=\"14.00\">class = y</text>\r\n",
       "<text text-anchor=\"start\" x=\"914\" y=\"-107.8\" font-family=\"Helvetica,sans-Serif\" baseline-shift=\"sub\" font-size=\"14.00\">0</text>\r\n",
       "</g>\r\n",
       "<!-- 15&#45;&gt;19 -->\r\n",
       "<g id=\"edge19\" class=\"edge\"><title>15&#45;&gt;19</title>\r\n",
       "<path fill=\"none\" stroke=\"black\" d=\"M768.711,-213.926C784.623,-204.187 801.855,-193.641 818.185,-183.646\"/>\r\n",
       "<polygon fill=\"black\" stroke=\"black\" points=\"820.448,-186.365 827.15,-178.159 816.794,-180.394 820.448,-186.365\"/>\r\n",
       "</g>\r\n",
       "<!-- 17 -->\r\n",
       "<g id=\"node18\" class=\"node\"><title>17</title>\r\n",
       "<path fill=\"#e58139\" stroke=\"black\" d=\"M667.5,-64C667.5,-64 591.5,-64 591.5,-64 585.5,-64 579.5,-58 579.5,-52 579.5,-52 579.5,-12 579.5,-12 579.5,-6 585.5,-0 591.5,-0 591.5,-0 667.5,-0 667.5,-0 673.5,-0 679.5,-6 679.5,-12 679.5,-12 679.5,-52 679.5,-52 679.5,-58 673.5,-64 667.5,-64\"/>\r\n",
       "<text text-anchor=\"start\" x=\"587.5\" y=\"-49.8\" font-family=\"Helvetica,sans-Serif\" font-size=\"14.00\">entropy = 0.0</text>\r\n",
       "<text text-anchor=\"start\" x=\"590\" y=\"-35.8\" font-family=\"Helvetica,sans-Serif\" font-size=\"14.00\">samples = 2</text>\r\n",
       "<text text-anchor=\"start\" x=\"589\" y=\"-21.8\" font-family=\"Helvetica,sans-Serif\" font-size=\"14.00\">value = [2, 0]</text>\r\n",
       "<text text-anchor=\"start\" x=\"598\" y=\"-7.8\" font-family=\"Helvetica,sans-Serif\" font-size=\"14.00\">class = y</text>\r\n",
       "<text text-anchor=\"start\" x=\"654\" y=\"-7.8\" font-family=\"Helvetica,sans-Serif\" baseline-shift=\"sub\" font-size=\"14.00\">0</text>\r\n",
       "</g>\r\n",
       "<!-- 16&#45;&gt;17 -->\r\n",
       "<g id=\"edge17\" class=\"edge\"><title>16&#45;&gt;17</title>\r\n",
       "<path fill=\"none\" stroke=\"black\" d=\"M678.483,-99.7956C671.899,-90.8168 664.872,-81.2341 658.255,-72.2119\"/>\r\n",
       "<polygon fill=\"black\" stroke=\"black\" points=\"661.055,-70.1115 652.319,-64.1172 655.411,-74.251 661.055,-70.1115\"/>\r\n",
       "</g>\r\n",
       "<!-- 18 -->\r\n",
       "<g id=\"node19\" class=\"node\"><title>18</title>\r\n",
       "<path fill=\"#399de5\" stroke=\"black\" d=\"M785.5,-64C785.5,-64 709.5,-64 709.5,-64 703.5,-64 697.5,-58 697.5,-52 697.5,-52 697.5,-12 697.5,-12 697.5,-6 703.5,-0 709.5,-0 709.5,-0 785.5,-0 785.5,-0 791.5,-0 797.5,-6 797.5,-12 797.5,-12 797.5,-52 797.5,-52 797.5,-58 791.5,-64 785.5,-64\"/>\r\n",
       "<text text-anchor=\"start\" x=\"705.5\" y=\"-49.8\" font-family=\"Helvetica,sans-Serif\" font-size=\"14.00\">entropy = 0.0</text>\r\n",
       "<text text-anchor=\"start\" x=\"708\" y=\"-35.8\" font-family=\"Helvetica,sans-Serif\" font-size=\"14.00\">samples = 6</text>\r\n",
       "<text text-anchor=\"start\" x=\"707\" y=\"-21.8\" font-family=\"Helvetica,sans-Serif\" font-size=\"14.00\">value = [0, 6]</text>\r\n",
       "<text text-anchor=\"start\" x=\"716\" y=\"-7.8\" font-family=\"Helvetica,sans-Serif\" font-size=\"14.00\">class = y</text>\r\n",
       "<text text-anchor=\"start\" x=\"772\" y=\"-7.8\" font-family=\"Helvetica,sans-Serif\" baseline-shift=\"sub\" font-size=\"14.00\">1</text>\r\n",
       "</g>\r\n",
       "<!-- 16&#45;&gt;18 -->\r\n",
       "<g id=\"edge18\" class=\"edge\"><title>16&#45;&gt;18</title>\r\n",
       "<path fill=\"none\" stroke=\"black\" d=\"M721.418,-99.7956C724.745,-91.2749 728.285,-82.2104 731.648,-73.5971\"/>\r\n",
       "<polygon fill=\"black\" stroke=\"black\" points=\"734.972,-74.7053 735.349,-64.1172 728.452,-72.1591 734.972,-74.7053\"/>\r\n",
       "</g>\r\n",
       "<!-- 20 -->\r\n",
       "<g id=\"node21\" class=\"node\"><title>20</title>\r\n",
       "<path fill=\"#e58139\" stroke=\"black\" d=\"M903.5,-64C903.5,-64 827.5,-64 827.5,-64 821.5,-64 815.5,-58 815.5,-52 815.5,-52 815.5,-12 815.5,-12 815.5,-6 821.5,-0 827.5,-0 827.5,-0 903.5,-0 903.5,-0 909.5,-0 915.5,-6 915.5,-12 915.5,-12 915.5,-52 915.5,-52 915.5,-58 909.5,-64 903.5,-64\"/>\r\n",
       "<text text-anchor=\"start\" x=\"823.5\" y=\"-49.8\" font-family=\"Helvetica,sans-Serif\" font-size=\"14.00\">entropy = 0.0</text>\r\n",
       "<text text-anchor=\"start\" x=\"826\" y=\"-35.8\" font-family=\"Helvetica,sans-Serif\" font-size=\"14.00\">samples = 8</text>\r\n",
       "<text text-anchor=\"start\" x=\"825\" y=\"-21.8\" font-family=\"Helvetica,sans-Serif\" font-size=\"14.00\">value = [8, 0]</text>\r\n",
       "<text text-anchor=\"start\" x=\"834\" y=\"-7.8\" font-family=\"Helvetica,sans-Serif\" font-size=\"14.00\">class = y</text>\r\n",
       "<text text-anchor=\"start\" x=\"890\" y=\"-7.8\" font-family=\"Helvetica,sans-Serif\" baseline-shift=\"sub\" font-size=\"14.00\">0</text>\r\n",
       "</g>\r\n",
       "<!-- 19&#45;&gt;20 -->\r\n",
       "<g id=\"edge20\" class=\"edge\"><title>19&#45;&gt;20</title>\r\n",
       "<path fill=\"none\" stroke=\"black\" d=\"M880.768,-99.7956C878.841,-91.3665 876.793,-82.4053 874.843,-73.8751\"/>\r\n",
       "<polygon fill=\"black\" stroke=\"black\" points=\"878.253,-73.0858 872.612,-64.1172 871.429,-74.6457 878.253,-73.0858\"/>\r\n",
       "</g>\r\n",
       "<!-- 21 -->\r\n",
       "<g id=\"node22\" class=\"node\"><title>21</title>\r\n",
       "<path fill=\"#f8dcc8\" stroke=\"black\" d=\"M1037.5,-64C1037.5,-64 945.5,-64 945.5,-64 939.5,-64 933.5,-58 933.5,-52 933.5,-52 933.5,-12 933.5,-12 933.5,-6 939.5,-0 945.5,-0 945.5,-0 1037.5,-0 1037.5,-0 1043.5,-0 1049.5,-6 1049.5,-12 1049.5,-12 1049.5,-52 1049.5,-52 1049.5,-58 1043.5,-64 1037.5,-64\"/>\r\n",
       "<text text-anchor=\"start\" x=\"941.5\" y=\"-49.8\" font-family=\"Helvetica,sans-Serif\" font-size=\"14.00\">entropy = 0.981</text>\r\n",
       "<text text-anchor=\"start\" x=\"948\" y=\"-35.8\" font-family=\"Helvetica,sans-Serif\" font-size=\"14.00\">samples = 31</text>\r\n",
       "<text text-anchor=\"start\" x=\"943\" y=\"-21.8\" font-family=\"Helvetica,sans-Serif\" font-size=\"14.00\">value = [18, 13]</text>\r\n",
       "<text text-anchor=\"start\" x=\"960\" y=\"-7.8\" font-family=\"Helvetica,sans-Serif\" font-size=\"14.00\">class = y</text>\r\n",
       "<text text-anchor=\"start\" x=\"1016\" y=\"-7.8\" font-family=\"Helvetica,sans-Serif\" baseline-shift=\"sub\" font-size=\"14.00\">0</text>\r\n",
       "</g>\r\n",
       "<!-- 19&#45;&gt;21 -->\r\n",
       "<g id=\"edge21\" class=\"edge\"><title>19&#45;&gt;21</title>\r\n",
       "<path fill=\"none\" stroke=\"black\" d=\"M926.613,-99.7956C935.602,-90.5419 945.214,-80.6469 954.212,-71.385\"/>\r\n",
       "<polygon fill=\"black\" stroke=\"black\" points=\"956.814,-73.7288 961.272,-64.1172 951.794,-68.8512 956.814,-73.7288\"/>\r\n",
       "</g>\r\n",
       "<!-- 23 -->\r\n",
       "<g id=\"node24\" class=\"node\"><title>23</title>\r\n",
       "<path fill=\"#ea995f\" stroke=\"black\" d=\"M1200,-406C1200,-406 1051,-406 1051,-406 1045,-406 1039,-400 1039,-394 1039,-394 1039,-340 1039,-340 1039,-334 1045,-328 1051,-328 1051,-328 1200,-328 1200,-328 1206,-328 1212,-334 1212,-340 1212,-340 1212,-394 1212,-394 1212,-400 1206,-406 1200,-406\"/>\r\n",
       "<text text-anchor=\"start\" x=\"1047\" y=\"-391.8\" font-family=\"Helvetica,sans-Serif\" font-size=\"14.00\">mean_perimeter ≤ 108.6</text>\r\n",
       "<text text-anchor=\"start\" x=\"1075.5\" y=\"-377.8\" font-family=\"Helvetica,sans-Serif\" font-size=\"14.00\">entropy = 0.639</text>\r\n",
       "<text text-anchor=\"start\" x=\"1082\" y=\"-363.8\" font-family=\"Helvetica,sans-Serif\" font-size=\"14.00\">samples = 37</text>\r\n",
       "<text text-anchor=\"start\" x=\"1081\" y=\"-349.8\" font-family=\"Helvetica,sans-Serif\" font-size=\"14.00\">value = [31, 6]</text>\r\n",
       "<text text-anchor=\"start\" x=\"1094\" y=\"-335.8\" font-family=\"Helvetica,sans-Serif\" font-size=\"14.00\">class = y</text>\r\n",
       "<text text-anchor=\"start\" x=\"1150\" y=\"-335.8\" font-family=\"Helvetica,sans-Serif\" baseline-shift=\"sub\" font-size=\"14.00\">0</text>\r\n",
       "</g>\r\n",
       "<!-- 22&#45;&gt;23 -->\r\n",
       "<g id=\"edge23\" class=\"edge\"><title>22&#45;&gt;23</title>\r\n",
       "<path fill=\"none\" stroke=\"black\" d=\"M1125.5,-441.769C1125.5,-433.57 1125.5,-424.803 1125.5,-416.28\"/>\r\n",
       "<polygon fill=\"black\" stroke=\"black\" points=\"1129,-416.058 1125.5,-406.058 1122,-416.059 1129,-416.058\"/>\r\n",
       "</g>\r\n",
       "<!-- 30 -->\r\n",
       "<g id=\"node31\" class=\"node\"><title>30</title>\r\n",
       "<path fill=\"#e58139\" stroke=\"black\" d=\"M1323,-399C1323,-399 1242,-399 1242,-399 1236,-399 1230,-393 1230,-387 1230,-387 1230,-347 1230,-347 1230,-341 1236,-335 1242,-335 1242,-335 1323,-335 1323,-335 1329,-335 1335,-341 1335,-347 1335,-347 1335,-387 1335,-387 1335,-393 1329,-399 1323,-399\"/>\r\n",
       "<text text-anchor=\"start\" x=\"1240.5\" y=\"-384.8\" font-family=\"Helvetica,sans-Serif\" font-size=\"14.00\">entropy = 0.0</text>\r\n",
       "<text text-anchor=\"start\" x=\"1239\" y=\"-370.8\" font-family=\"Helvetica,sans-Serif\" font-size=\"14.00\">samples = 91</text>\r\n",
       "<text text-anchor=\"start\" x=\"1238\" y=\"-356.8\" font-family=\"Helvetica,sans-Serif\" font-size=\"14.00\">value = [91, 0]</text>\r\n",
       "<text text-anchor=\"start\" x=\"1251\" y=\"-342.8\" font-family=\"Helvetica,sans-Serif\" font-size=\"14.00\">class = y</text>\r\n",
       "<text text-anchor=\"start\" x=\"1307\" y=\"-342.8\" font-family=\"Helvetica,sans-Serif\" baseline-shift=\"sub\" font-size=\"14.00\">0</text>\r\n",
       "</g>\r\n",
       "<!-- 22&#45;&gt;30 -->\r\n",
       "<g id=\"edge30\" class=\"edge\"><title>22&#45;&gt;30</title>\r\n",
       "<path fill=\"none\" stroke=\"black\" d=\"M1179.09,-441.769C1195.73,-429.897 1214.04,-416.837 1230.57,-405.047\"/>\r\n",
       "<polygon fill=\"black\" stroke=\"black\" points=\"1232.92,-407.667 1239.03,-399.01 1228.86,-401.968 1232.92,-407.667\"/>\r\n",
       "</g>\r\n",
       "<!-- 24 -->\r\n",
       "<g id=\"node25\" class=\"node\"><title>24</title>\r\n",
       "<path fill=\"#f5cdb0\" stroke=\"black\" d=\"M1192.5,-292C1192.5,-292 1058.5,-292 1058.5,-292 1052.5,-292 1046.5,-286 1046.5,-280 1046.5,-280 1046.5,-226 1046.5,-226 1046.5,-220 1052.5,-214 1058.5,-214 1058.5,-214 1192.5,-214 1192.5,-214 1198.5,-214 1204.5,-220 1204.5,-226 1204.5,-226 1204.5,-280 1204.5,-280 1204.5,-286 1198.5,-292 1192.5,-292\"/>\r\n",
       "<text text-anchor=\"start\" x=\"1054.5\" y=\"-277.8\" font-family=\"Helvetica,sans-Serif\" font-size=\"14.00\">mean_radius ≤ 16.135</text>\r\n",
       "<text text-anchor=\"start\" x=\"1075.5\" y=\"-263.8\" font-family=\"Helvetica,sans-Serif\" font-size=\"14.00\">entropy = 0.954</text>\r\n",
       "<text text-anchor=\"start\" x=\"1082\" y=\"-249.8\" font-family=\"Helvetica,sans-Serif\" font-size=\"14.00\">samples = 16</text>\r\n",
       "<text text-anchor=\"start\" x=\"1081\" y=\"-235.8\" font-family=\"Helvetica,sans-Serif\" font-size=\"14.00\">value = [10, 6]</text>\r\n",
       "<text text-anchor=\"start\" x=\"1094\" y=\"-221.8\" font-family=\"Helvetica,sans-Serif\" font-size=\"14.00\">class = y</text>\r\n",
       "<text text-anchor=\"start\" x=\"1150\" y=\"-221.8\" font-family=\"Helvetica,sans-Serif\" baseline-shift=\"sub\" font-size=\"14.00\">0</text>\r\n",
       "</g>\r\n",
       "<!-- 23&#45;&gt;24 -->\r\n",
       "<g id=\"edge24\" class=\"edge\"><title>23&#45;&gt;24</title>\r\n",
       "<path fill=\"none\" stroke=\"black\" d=\"M1125.5,-327.769C1125.5,-319.57 1125.5,-310.803 1125.5,-302.28\"/>\r\n",
       "<polygon fill=\"black\" stroke=\"black\" points=\"1129,-302.058 1125.5,-292.058 1122,-302.059 1129,-302.058\"/>\r\n",
       "</g>\r\n",
       "<!-- 29 -->\r\n",
       "<g id=\"node30\" class=\"node\"><title>29</title>\r\n",
       "<path fill=\"#e58139\" stroke=\"black\" d=\"M1316,-285C1316,-285 1235,-285 1235,-285 1229,-285 1223,-279 1223,-273 1223,-273 1223,-233 1223,-233 1223,-227 1229,-221 1235,-221 1235,-221 1316,-221 1316,-221 1322,-221 1328,-227 1328,-233 1328,-233 1328,-273 1328,-273 1328,-279 1322,-285 1316,-285\"/>\r\n",
       "<text text-anchor=\"start\" x=\"1233.5\" y=\"-270.8\" font-family=\"Helvetica,sans-Serif\" font-size=\"14.00\">entropy = 0.0</text>\r\n",
       "<text text-anchor=\"start\" x=\"1232\" y=\"-256.8\" font-family=\"Helvetica,sans-Serif\" font-size=\"14.00\">samples = 21</text>\r\n",
       "<text text-anchor=\"start\" x=\"1231\" y=\"-242.8\" font-family=\"Helvetica,sans-Serif\" font-size=\"14.00\">value = [21, 0]</text>\r\n",
       "<text text-anchor=\"start\" x=\"1244\" y=\"-228.8\" font-family=\"Helvetica,sans-Serif\" font-size=\"14.00\">class = y</text>\r\n",
       "<text text-anchor=\"start\" x=\"1300\" y=\"-228.8\" font-family=\"Helvetica,sans-Serif\" baseline-shift=\"sub\" font-size=\"14.00\">0</text>\r\n",
       "</g>\r\n",
       "<!-- 23&#45;&gt;29 -->\r\n",
       "<g id=\"edge29\" class=\"edge\"><title>23&#45;&gt;29</title>\r\n",
       "<path fill=\"none\" stroke=\"black\" d=\"M1176.7,-327.769C1192.6,-315.897 1210.09,-302.837 1225.88,-291.047\"/>\r\n",
       "<polygon fill=\"black\" stroke=\"black\" points=\"1228.05,-293.797 1233.97,-285.01 1223.86,-288.188 1228.05,-293.797\"/>\r\n",
       "</g>\r\n",
       "<!-- 25 -->\r\n",
       "<g id=\"node26\" class=\"node\"><title>25</title>\r\n",
       "<path fill=\"#ea9a61\" stroke=\"black\" d=\"M1191,-178C1191,-178 1060,-178 1060,-178 1054,-178 1048,-172 1048,-166 1048,-166 1048,-112 1048,-112 1048,-106 1054,-100 1060,-100 1060,-100 1191,-100 1191,-100 1197,-100 1203,-106 1203,-112 1203,-112 1203,-166 1203,-166 1203,-172 1197,-178 1191,-178\"/>\r\n",
       "<text text-anchor=\"start\" x=\"1056\" y=\"-163.8\" font-family=\"Helvetica,sans-Serif\" font-size=\"14.00\">mean_texture ≤ 14.72</text>\r\n",
       "<text text-anchor=\"start\" x=\"1079.5\" y=\"-149.8\" font-family=\"Helvetica,sans-Serif\" font-size=\"14.00\">entropy = 0.65</text>\r\n",
       "<text text-anchor=\"start\" x=\"1082\" y=\"-135.8\" font-family=\"Helvetica,sans-Serif\" font-size=\"14.00\">samples = 12</text>\r\n",
       "<text text-anchor=\"start\" x=\"1081\" y=\"-121.8\" font-family=\"Helvetica,sans-Serif\" font-size=\"14.00\">value = [10, 2]</text>\r\n",
       "<text text-anchor=\"start\" x=\"1094\" y=\"-107.8\" font-family=\"Helvetica,sans-Serif\" font-size=\"14.00\">class = y</text>\r\n",
       "<text text-anchor=\"start\" x=\"1150\" y=\"-107.8\" font-family=\"Helvetica,sans-Serif\" baseline-shift=\"sub\" font-size=\"14.00\">0</text>\r\n",
       "</g>\r\n",
       "<!-- 24&#45;&gt;25 -->\r\n",
       "<g id=\"edge25\" class=\"edge\"><title>24&#45;&gt;25</title>\r\n",
       "<path fill=\"none\" stroke=\"black\" d=\"M1125.5,-213.769C1125.5,-205.57 1125.5,-196.803 1125.5,-188.28\"/>\r\n",
       "<polygon fill=\"black\" stroke=\"black\" points=\"1129,-188.058 1125.5,-178.058 1122,-188.059 1129,-188.058\"/>\r\n",
       "</g>\r\n",
       "<!-- 28 -->\r\n",
       "<g id=\"node29\" class=\"node\"><title>28</title>\r\n",
       "<path fill=\"#399de5\" stroke=\"black\" d=\"M1309.5,-171C1309.5,-171 1233.5,-171 1233.5,-171 1227.5,-171 1221.5,-165 1221.5,-159 1221.5,-159 1221.5,-119 1221.5,-119 1221.5,-113 1227.5,-107 1233.5,-107 1233.5,-107 1309.5,-107 1309.5,-107 1315.5,-107 1321.5,-113 1321.5,-119 1321.5,-119 1321.5,-159 1321.5,-159 1321.5,-165 1315.5,-171 1309.5,-171\"/>\r\n",
       "<text text-anchor=\"start\" x=\"1229.5\" y=\"-156.8\" font-family=\"Helvetica,sans-Serif\" font-size=\"14.00\">entropy = 0.0</text>\r\n",
       "<text text-anchor=\"start\" x=\"1232\" y=\"-142.8\" font-family=\"Helvetica,sans-Serif\" font-size=\"14.00\">samples = 4</text>\r\n",
       "<text text-anchor=\"start\" x=\"1231\" y=\"-128.8\" font-family=\"Helvetica,sans-Serif\" font-size=\"14.00\">value = [0, 4]</text>\r\n",
       "<text text-anchor=\"start\" x=\"1240\" y=\"-114.8\" font-family=\"Helvetica,sans-Serif\" font-size=\"14.00\">class = y</text>\r\n",
       "<text text-anchor=\"start\" x=\"1296\" y=\"-114.8\" font-family=\"Helvetica,sans-Serif\" baseline-shift=\"sub\" font-size=\"14.00\">1</text>\r\n",
       "</g>\r\n",
       "<!-- 24&#45;&gt;28 -->\r\n",
       "<g id=\"edge28\" class=\"edge\"><title>24&#45;&gt;28</title>\r\n",
       "<path fill=\"none\" stroke=\"black\" d=\"M1175.34,-213.769C1190.67,-202.006 1207.53,-189.076 1222.78,-177.371\"/>\r\n",
       "<polygon fill=\"black\" stroke=\"black\" points=\"1225.27,-179.874 1231.08,-171.01 1221.01,-174.32 1225.27,-179.874\"/>\r\n",
       "</g>\r\n",
       "<!-- 26 -->\r\n",
       "<g id=\"node27\" class=\"node\"><title>26</title>\r\n",
       "<path fill=\"#9ccef2\" stroke=\"black\" d=\"M1171.5,-64C1171.5,-64 1079.5,-64 1079.5,-64 1073.5,-64 1067.5,-58 1067.5,-52 1067.5,-52 1067.5,-12 1067.5,-12 1067.5,-6 1073.5,-0 1079.5,-0 1079.5,-0 1171.5,-0 1171.5,-0 1177.5,-0 1183.5,-6 1183.5,-12 1183.5,-12 1183.5,-52 1183.5,-52 1183.5,-58 1177.5,-64 1171.5,-64\"/>\r\n",
       "<text text-anchor=\"start\" x=\"1075.5\" y=\"-49.8\" font-family=\"Helvetica,sans-Serif\" font-size=\"14.00\">entropy = 0.918</text>\r\n",
       "<text text-anchor=\"start\" x=\"1086\" y=\"-35.8\" font-family=\"Helvetica,sans-Serif\" font-size=\"14.00\">samples = 3</text>\r\n",
       "<text text-anchor=\"start\" x=\"1085\" y=\"-21.8\" font-family=\"Helvetica,sans-Serif\" font-size=\"14.00\">value = [1, 2]</text>\r\n",
       "<text text-anchor=\"start\" x=\"1094\" y=\"-7.8\" font-family=\"Helvetica,sans-Serif\" font-size=\"14.00\">class = y</text>\r\n",
       "<text text-anchor=\"start\" x=\"1150\" y=\"-7.8\" font-family=\"Helvetica,sans-Serif\" baseline-shift=\"sub\" font-size=\"14.00\">1</text>\r\n",
       "</g>\r\n",
       "<!-- 25&#45;&gt;26 -->\r\n",
       "<g id=\"edge26\" class=\"edge\"><title>25&#45;&gt;26</title>\r\n",
       "<path fill=\"none\" stroke=\"black\" d=\"M1125.5,-99.7956C1125.5,-91.4581 1125.5,-82.6 1125.5,-74.1534\"/>\r\n",
       "<polygon fill=\"black\" stroke=\"black\" points=\"1129,-74.1171 1125.5,-64.1172 1122,-74.1172 1129,-74.1171\"/>\r\n",
       "</g>\r\n",
       "<!-- 27 -->\r\n",
       "<g id=\"node28\" class=\"node\"><title>27</title>\r\n",
       "<path fill=\"#e58139\" stroke=\"black\" d=\"M1289.5,-64C1289.5,-64 1213.5,-64 1213.5,-64 1207.5,-64 1201.5,-58 1201.5,-52 1201.5,-52 1201.5,-12 1201.5,-12 1201.5,-6 1207.5,-0 1213.5,-0 1213.5,-0 1289.5,-0 1289.5,-0 1295.5,-0 1301.5,-6 1301.5,-12 1301.5,-12 1301.5,-52 1301.5,-52 1301.5,-58 1295.5,-64 1289.5,-64\"/>\r\n",
       "<text text-anchor=\"start\" x=\"1209.5\" y=\"-49.8\" font-family=\"Helvetica,sans-Serif\" font-size=\"14.00\">entropy = 0.0</text>\r\n",
       "<text text-anchor=\"start\" x=\"1212\" y=\"-35.8\" font-family=\"Helvetica,sans-Serif\" font-size=\"14.00\">samples = 9</text>\r\n",
       "<text text-anchor=\"start\" x=\"1211\" y=\"-21.8\" font-family=\"Helvetica,sans-Serif\" font-size=\"14.00\">value = [9, 0]</text>\r\n",
       "<text text-anchor=\"start\" x=\"1220\" y=\"-7.8\" font-family=\"Helvetica,sans-Serif\" font-size=\"14.00\">class = y</text>\r\n",
       "<text text-anchor=\"start\" x=\"1276\" y=\"-7.8\" font-family=\"Helvetica,sans-Serif\" baseline-shift=\"sub\" font-size=\"14.00\">0</text>\r\n",
       "</g>\r\n",
       "<!-- 25&#45;&gt;27 -->\r\n",
       "<g id=\"edge27\" class=\"edge\"><title>25&#45;&gt;27</title>\r\n",
       "<path fill=\"none\" stroke=\"black\" d=\"M1171.35,-99.7956C1182.78,-90.2671 1195.03,-80.0585 1206.43,-70.5614\"/>\r\n",
       "<polygon fill=\"black\" stroke=\"black\" points=\"1208.72,-73.2078 1214.16,-64.1172 1204.24,-67.8303 1208.72,-73.2078\"/>\r\n",
       "</g>\r\n",
       "</g>\r\n",
       "</svg>\r\n"
      ],
      "text/plain": [
       "<graphviz.files.Source at 0x14732a4f970>"
      ]
     },
     "execution_count": 41,
     "metadata": {},
     "output_type": "execute_result"
    }
   ],
   "source": [
    "dot_data = tree.export_graphviz(decisiontree, out_file=None, \n",
    "                              feature_names=X.columns,  \n",
    "                              class_names=True,  \n",
    "                              filled=True, rounded=True,  \n",
    "                              special_characters=True)\n",
    "\n",
    "graph = graphviz.Source(dot_data) \n",
    "\n",
    "graph "
   ]
  },
  {
   "cell_type": "code",
   "execution_count": 42,
   "metadata": {},
   "outputs": [
    {
     "data": {
      "text/plain": [
       "88.4956"
      ]
     },
     "execution_count": 42,
     "metadata": {},
     "output_type": "execute_result"
    }
   ],
   "source": [
    "tahmin2 = decisiontree.predict(X_test)\n",
    "error2=tahmin2\n",
    "tahmin2=accuracy_score(y_test,tahmin2)\n",
    "tahmin2 = round(tahmin2*100,4)\n",
    "tahmin2 "
   ]
  },
  {
   "cell_type": "code",
   "execution_count": 43,
   "metadata": {},
   "outputs": [
    {
     "name": "stdout",
     "output_type": "stream",
     "text": [
      "88.40909090909092\n"
     ]
    }
   ],
   "source": [
    "accuracymean=cross_val_score(estimator=decisiontree,X=X_train,y=y_train,cv=10)\n",
    "print(accuracymean.mean()*100)\n",
    "decisionscor = round(accuracymean.mean()*100,4)\n",
    "\n",
    "resultnorm.append(tahmin2)\n",
    "resultcros.append(decisionscor)"
   ]
  },
  {
   "cell_type": "code",
   "execution_count": 60,
   "metadata": {},
   "outputs": [
    {
     "data": {
      "text/plain": [
       "0.5132743362831859"
      ]
     },
     "execution_count": 60,
     "metadata": {},
     "output_type": "execute_result"
    }
   ],
   "source": [
    "error_2=mean_squared_error(y_test,error2)\n",
    "list_errors.append(error_2)\n"
   ]
  },
  {
   "cell_type": "markdown",
   "metadata": {},
   "source": [
    "## SVM ##"
   ]
  },
  {
   "cell_type": "code",
   "execution_count": 45,
   "metadata": {},
   "outputs": [
    {
     "data": {
      "text/html": [
       "<div>\n",
       "<style scoped>\n",
       "    .dataframe tbody tr th:only-of-type {\n",
       "        vertical-align: middle;\n",
       "    }\n",
       "\n",
       "    .dataframe tbody tr th {\n",
       "        vertical-align: top;\n",
       "    }\n",
       "\n",
       "    .dataframe thead th {\n",
       "        text-align: right;\n",
       "    }\n",
       "</style>\n",
       "<table border=\"1\" class=\"dataframe\">\n",
       "  <thead>\n",
       "    <tr style=\"text-align: right;\">\n",
       "      <th></th>\n",
       "      <th>mean_texture</th>\n",
       "      <th>mean_perimeter</th>\n",
       "      <th>mean_area</th>\n",
       "      <th>mean_smoothness</th>\n",
       "    </tr>\n",
       "  </thead>\n",
       "  <tbody>\n",
       "    <tr>\n",
       "      <th>0</th>\n",
       "      <td>10.38</td>\n",
       "      <td>122.80</td>\n",
       "      <td>1001.0</td>\n",
       "      <td>0.11840</td>\n",
       "    </tr>\n",
       "    <tr>\n",
       "      <th>1</th>\n",
       "      <td>17.77</td>\n",
       "      <td>132.90</td>\n",
       "      <td>1326.0</td>\n",
       "      <td>0.08474</td>\n",
       "    </tr>\n",
       "    <tr>\n",
       "      <th>2</th>\n",
       "      <td>21.25</td>\n",
       "      <td>130.00</td>\n",
       "      <td>1203.0</td>\n",
       "      <td>0.10960</td>\n",
       "    </tr>\n",
       "    <tr>\n",
       "      <th>3</th>\n",
       "      <td>20.38</td>\n",
       "      <td>77.58</td>\n",
       "      <td>386.1</td>\n",
       "      <td>0.14250</td>\n",
       "    </tr>\n",
       "    <tr>\n",
       "      <th>4</th>\n",
       "      <td>14.34</td>\n",
       "      <td>135.10</td>\n",
       "      <td>1297.0</td>\n",
       "      <td>0.10030</td>\n",
       "    </tr>\n",
       "    <tr>\n",
       "      <th>...</th>\n",
       "      <td>...</td>\n",
       "      <td>...</td>\n",
       "      <td>...</td>\n",
       "      <td>...</td>\n",
       "    </tr>\n",
       "    <tr>\n",
       "      <th>564</th>\n",
       "      <td>22.39</td>\n",
       "      <td>142.00</td>\n",
       "      <td>1479.0</td>\n",
       "      <td>0.11100</td>\n",
       "    </tr>\n",
       "    <tr>\n",
       "      <th>565</th>\n",
       "      <td>28.25</td>\n",
       "      <td>131.20</td>\n",
       "      <td>1261.0</td>\n",
       "      <td>0.09780</td>\n",
       "    </tr>\n",
       "    <tr>\n",
       "      <th>566</th>\n",
       "      <td>28.08</td>\n",
       "      <td>108.30</td>\n",
       "      <td>858.1</td>\n",
       "      <td>0.08455</td>\n",
       "    </tr>\n",
       "    <tr>\n",
       "      <th>567</th>\n",
       "      <td>29.33</td>\n",
       "      <td>140.10</td>\n",
       "      <td>1265.0</td>\n",
       "      <td>0.11780</td>\n",
       "    </tr>\n",
       "    <tr>\n",
       "      <th>568</th>\n",
       "      <td>24.54</td>\n",
       "      <td>47.92</td>\n",
       "      <td>181.0</td>\n",
       "      <td>0.05263</td>\n",
       "    </tr>\n",
       "  </tbody>\n",
       "</table>\n",
       "<p>561 rows × 4 columns</p>\n",
       "</div>"
      ],
      "text/plain": [
       "     mean_texture  mean_perimeter  mean_area  mean_smoothness\n",
       "0           10.38          122.80     1001.0          0.11840\n",
       "1           17.77          132.90     1326.0          0.08474\n",
       "2           21.25          130.00     1203.0          0.10960\n",
       "3           20.38           77.58      386.1          0.14250\n",
       "4           14.34          135.10     1297.0          0.10030\n",
       "..            ...             ...        ...              ...\n",
       "564         22.39          142.00     1479.0          0.11100\n",
       "565         28.25          131.20     1261.0          0.09780\n",
       "566         28.08          108.30      858.1          0.08455\n",
       "567         29.33          140.10     1265.0          0.11780\n",
       "568         24.54           47.92      181.0          0.05263\n",
       "\n",
       "[561 rows x 4 columns]"
      ]
     },
     "execution_count": 45,
     "metadata": {},
     "output_type": "execute_result"
    }
   ],
   "source": [
    "X=data[['mean_texture', 'mean_perimeter', 'mean_area', 'mean_smoothness']]\n",
    "X"
   ]
  },
  {
   "cell_type": "code",
   "execution_count": 46,
   "metadata": {},
   "outputs": [],
   "source": [
    "y = data[['diagnosis']]"
   ]
  },
  {
   "cell_type": "code",
   "execution_count": 47,
   "metadata": {},
   "outputs": [],
   "source": [
    "X_train, X_test, y_train, y_test = train_test_split(X, y,test_size=0.2, random_state = 0)"
   ]
  },
  {
   "cell_type": "code",
   "execution_count": 48,
   "metadata": {},
   "outputs": [],
   "source": [
    "svc = SVC(kernel='poly',degree=2,gamma='auto')"
   ]
  },
  {
   "cell_type": "code",
   "execution_count": 49,
   "metadata": {},
   "outputs": [],
   "source": [
    "y = y_train.values.ravel()\n",
    "y_train = np.array(y).astype(int)"
   ]
  },
  {
   "cell_type": "code",
   "execution_count": 50,
   "metadata": {},
   "outputs": [
    {
     "data": {
      "text/plain": [
       "SVC(degree=2, gamma='auto', kernel='poly')"
      ]
     },
     "execution_count": 50,
     "metadata": {},
     "output_type": "execute_result"
    }
   ],
   "source": [
    "svc.fit(X_train,y_train)"
   ]
  },
  {
   "cell_type": "code",
   "execution_count": 51,
   "metadata": {},
   "outputs": [
    {
     "data": {
      "text/plain": [
       "88.4956"
      ]
     },
     "execution_count": 51,
     "metadata": {},
     "output_type": "execute_result"
    }
   ],
   "source": [
    "tahmin3 = svc.predict(X_test)\n",
    "error3=tahmin3\n",
    "tahmin3=accuracy_score(y_test,tahmin3)\n",
    "tahmin3 = round(tahmin3*100,4)\n",
    "tahmin3"
   ]
  },
  {
   "cell_type": "code",
   "execution_count": 52,
   "metadata": {},
   "outputs": [
    {
     "name": "stdout",
     "output_type": "stream",
     "text": [
      "91.30303030303031\n"
     ]
    }
   ],
   "source": [
    "accuracymean=cross_val_score(estimator=svc,X=X_train,y=y_train,cv=10)\n",
    "print(accuracymean.mean()*100)\n",
    "svmscor = round(accuracymean.mean()*100,4)\n",
    "\n",
    "resultnorm.append(tahmin3)\n",
    "resultcros.append(svmscor)"
   ]
  },
  {
   "cell_type": "code",
   "execution_count": 57,
   "metadata": {},
   "outputs": [
    {
     "data": {
      "text/plain": [
       "0.11504424778761062"
      ]
     },
     "execution_count": 57,
     "metadata": {},
     "output_type": "execute_result"
    }
   ],
   "source": [
    "error_3=mean_squared_error(y_test,error3)\n",
    "list_errors.append(error_3)\n",
    "error_3"
   ]
  },
  {
   "cell_type": "code",
   "execution_count": 54,
   "metadata": {},
   "outputs": [
    {
     "data": {
      "image/png": "[encoded data removed]",
      "text/plain": [
       "<Figure size 432x288 with 1 Axes>"
      ]
     },
     "metadata": {},
     "output_type": "display_data"
    }
   ],
   "source": [
    "labels = ['Logistic regresion','Decision tree ', 'SVM']\n",
    "\n",
    "x = np.arange(len(labels))  \n",
    "width = 0.35  \n",
    "\n",
    "fig, ax = plt.subplots()\n",
    "rects1 = ax.bar(x - width/2, resultnorm, width)\n",
    "rects2 = ax.bar(x + width/2, resultcros, width)\n",
    "\n",
    "\n",
    "ax.set_ylabel('scorlar')\n",
    "ax.set_title('algoritmalar')\n",
    "ax.set_xticks(x)\n",
    "ax.set_xticklabels(labels)\n",
    "\n",
    "\n",
    "\n",
    "def autolabel(rects):\n",
    "    \n",
    "    for rect in rects:\n",
    "        height = rect.get_height()\n",
    "        ax.annotate('{}'.format(height),\n",
    "                    xy=(rect.get_x() + rect.get_width() / 2, height),\n",
    "                    xytext=(0, 3),  # 3 points vertical offset\n",
    "                    textcoords=\"offset points\",\n",
    "                    ha='center', va='bottom')\n",
    "\n",
    "\n",
    "autolabel(rects1)\n",
    "autolabel(rects2)\n",
    "\n",
    "fig.tight_layout()\n",
    "\n",
    "plt.show()"
   ]
  },
  {
   "cell_type": "code",
   "execution_count": 55,
   "metadata": {},
   "outputs": [
    {
     "data": {
      "image/png": "[encoded data removed]",
      "text/plain": [
       "<Figure size 864x360 with 1 Axes>"
      ]
     },
     "metadata": {},
     "output_type": "display_data"
    }
   ],
   "source": [
    "plt.figure(figsize=(12,5))\n",
    "plt.bar(['Logistic regression', 'Decision Tree','SVM'],list_errors,width=0.3)\n",
    "plt.xlabel('algoritmalar')\n",
    "plt.ylabel('mean squared error')\n",
    "plt.show()\n"
   ]
  }
 ],
 "metadata": {
  "kernelspec": {
   "display_name": "Python 3",
   "language": "python",
   "name": "python3"
  },
  "language_info": {
   "codemirror_mode": {
    "name": "ipython",
    "version": 3
   },
   "file_extension": ".py",
   "mimetype": "text/x-python",
   "name": "python",
   "nbconvert_exporter": "python",
   "pygments_lexer": "ipython3",
   "version": "3.8.5"
  }
 },
 "nbformat": 4,
 "nbformat_minor": 4
}
